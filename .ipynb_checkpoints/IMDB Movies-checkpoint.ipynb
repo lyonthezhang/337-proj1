{
 "cells": [
  {
   "cell_type": "code",
   "execution_count": 95,
   "metadata": {},
   "outputs": [
    {
     "name": "stdout",
     "output_type": "stream",
     "text": [
      "title    object\n",
      "start     int32\n",
      "end      object\n",
      "dtype: object\n",
      "(2835262, 3)\n",
      "                                           title  start end\n",
      "16664                                 Frivolinas   2014  \\N\n",
      "61137  El tango del viudo y su espejo deformante   2020  \\N\n",
      "67691                 The Other Side of the Wind   2018  \\N\n",
      "67837                            Sabse Bada Sukh   2018  \\N\n",
      "87502                                      Kokoa   2019  \\N\n"
     ]
    }
   ],
   "source": [
    "import pandas as pd\n",
    "\n",
    "df = pd.read_csv('title.basics.tsv', sep='\\t')\n",
    "\n",
    "title_year_df = df[['primaryTitle', 'startYear', 'endYear']]\n",
    "title_year_df = title_year_df.rename(columns={'primaryTitle': 'title', 'startYear': 'start', 'endYear': 'end'})\n",
    "# title_year_df = title_year_df[(title_year_df.start != '\\\\N') & (title_year_df.end != '\\\\N')]\n",
    "title_year_df = title_year_df[(title_year_df.start != '\\\\N')]\n",
    "title_year_df = title_year_df.astype({'start': 'int32'})\n",
    "# title_year_df = title_year_df.astype({'start': 'int32', 'end': 'int32'})\n",
    "title_year_df = title_year_df[(title_year_df['start'] > 2010)]\n",
    "# title_year_df = title_year_df[(title_year_df['start'] > 2010) | (title_year_df['end'] >= 2012)]\n",
    "                              \n",
    "print(title_year_df.dtypes)\n",
    "print(title_year_df.shape)\n",
    "print(title_year_df.head(5))\n",
    "\n",
    "title_year_df.to_csv('movies.csv', index=False)  "
   ]
  },
  {
   "cell_type": "code",
   "execution_count": null,
   "metadata": {},
   "outputs": [],
   "source": []
  },
  {
   "cell_type": "code",
   "execution_count": null,
   "metadata": {},
   "outputs": [],
   "source": []
  },
  {
   "cell_type": "code",
   "execution_count": 96,
   "metadata": {},
   "outputs": [
    {
     "name": "stdout",
     "output_type": "stream",
     "text": [
      "            tconst  titleType primaryTitle     originalTitle  isAdult  \\\n",
      "59180    tt0060315      movie       Django            Django        0   \n",
      "155328   tt0160213      movie       Django            Django        0   \n",
      "1071116  tt1017906      video       Django            Django        0   \n",
      "1957368  tt1189253      movie       Django            Django        0   \n",
      "3602567  tt3586646      short       Django  Sasurai no jango        0   \n",
      "4036003  tt4559584      short       Django            Django        0   \n",
      "4462215  tt5515988      movie       Django            Django        0   \n",
      "4788925  tt6247936      movie       Django            Django        0   \n",
      "5409049  tt7590800  tvEpisode       Django            Django        0   \n",
      "\n",
      "        startYear endYear runtimeMinutes                 genres  \n",
      "59180        1966      \\N             91         Action,Western  \n",
      "155328       1999      \\N             \\N                     \\N  \n",
      "1071116      2005      \\N             \\N                 Action  \n",
      "1957368        \\N      \\N             \\N              Biography  \n",
      "3602567      2014      \\N             42          Short,Western  \n",
      "4036003      2014      \\N             18          Musical,Short  \n",
      "4462215        \\N      \\N             \\N                  Music  \n",
      "4788925      2017      \\N            117  Biography,Drama,Music  \n",
      "5409049      2017      \\N             \\N                  Drama  \n",
      "          title  start end\n",
      "3602567  Django   2014  \\N\n",
      "4036003  Django   2014  \\N\n",
      "4788925  Django   2017  \\N\n",
      "5409049  Django   2017  \\N\n"
     ]
    }
   ],
   "source": [
    "t = 'Django'\n",
    "print(df[df['primaryTitle'] == t])\n",
    "print(title_year_df[title_year_df['title'] == t])"
   ]
  },
  {
   "cell_type": "code",
   "execution_count": null,
   "metadata": {},
   "outputs": [],
   "source": []
  },
  {
   "cell_type": "code",
   "execution_count": null,
   "metadata": {},
   "outputs": [],
   "source": []
  },
  {
   "cell_type": "code",
   "execution_count": null,
   "metadata": {},
   "outputs": [],
   "source": []
  }
 ],
 "metadata": {
  "kernelspec": {
   "display_name": "Python 3",
   "language": "python",
   "name": "python3"
  },
  "language_info": {
   "codemirror_mode": {
    "name": "ipython",
    "version": 3
   },
   "file_extension": ".py",
   "mimetype": "text/x-python",
   "name": "python",
   "nbconvert_exporter": "python",
   "pygments_lexer": "ipython3",
   "version": "3.7.4"
  }
 },
 "nbformat": 4,
 "nbformat_minor": 2
}
