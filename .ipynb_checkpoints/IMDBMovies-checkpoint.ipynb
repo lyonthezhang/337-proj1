{
 "cells": [
  {
   "cell_type": "code",
   "execution_count": 133,
   "metadata": {},
   "outputs": [
    {
     "name": "stdout",
     "output_type": "stream",
     "text": [
      "title    object\n",
      "type     object\n",
      "start     int32\n",
      "end      object\n",
      "dtype: object\n",
      "(2835262, 4)\n",
      "                                           title   type  start end\n",
      "16664                                 Frivolinas  movie   2014  \\N\n",
      "61137  El tango del viudo y su espejo deformante  movie   2020  \\N\n",
      "67691                 The Other Side of the Wind  movie   2018  \\N\n",
      "67837                            Sabse Bada Sukh  movie   2018  \\N\n",
      "87502                                      Kokoa  short   2019  \\N\n"
     ]
    }
   ],
   "source": [
    "import pandas as pd\n",
    "\n",
    "df = pd.read_csv('title.basics.tsv', sep='\\t')\n",
    "\n",
    "title_year_df = df[['primaryTitle', 'titleType', 'startYear', 'endYear']]\n",
    "title_year_df = title_year_df.rename(columns={'primaryTitle': 'title', 'titleType': 'type', 'startYear': 'start', 'endYear': 'end'})\n",
    "# title_year_df = title_year_df[(title_year_df.start != '\\\\N') & (title_year_df.end != '\\\\N')]\n",
    "title_year_df = title_year_df[(title_year_df.start != '\\\\N')]\n",
    "title_year_df = title_year_df.astype({'start': 'int32'})\n",
    "# title_year_df = title_year_df.astype({'start': 'int32', 'end': 'int32'})\n",
    "title_year_df = title_year_df[(title_year_df['start'] > 2010)]\n",
    "# title_year_df = title_year_df[(title_year_df['start'] > 2010) | (title_year_df['end'] >= 2012)]\n",
    "\n",
    "print(title_year_df.dtypes)\n",
    "print(title_year_df.shape)\n",
    "print(title_year_df.head(5))\n",
    "\n",
    "title_year_df.to_csv('movies.csv', index=False)  "
   ]
  },
  {
   "cell_type": "code",
   "execution_count": 146,
   "metadata": {},
   "outputs": [
    {
     "name": "stdout",
     "output_type": "stream",
     "text": [
      "          title       type  start end\n",
      "1136976  Change      short   2017  \\N\n",
      "1148350  Change  tvEpisode   2019  \\N\n",
      "1182465  Change      video   2019  \\N\n",
      "1341251  Change  tvEpisode   2019  \\N\n",
      "1377275  Change      short   2019  \\N\n",
      "...         ...        ...    ...  ..\n",
      "6142181  Change  tvEpisode   2018  \\N\n",
      "6225750  Change      video   2017  \\N\n",
      "6250225  Change      short   2014  \\N\n",
      "6317306  Change      video   2018  \\N\n",
      "6466715  Change  tvEpisode   2018  \\N\n",
      "\n",
      "[72 rows x 4 columns]\n"
     ]
    }
   ],
   "source": [
    "t = 'Change'\n",
    "# print(df[df['primaryTitle'] == t])\n",
    "print(title_year_df[title_year_df['title'] == t])"
   ]
  },
  {
   "cell_type": "code",
   "execution_count": null,
   "metadata": {},
   "outputs": [],
   "source": []
  },
  {
   "cell_type": "code",
   "execution_count": 142,
   "metadata": {},
   "outputs": [
    {
     "name": "stdout",
     "output_type": "stream",
     "text": [
      "                                       title   type  start end\n",
      "0                                 Frivolinas  movie   2014  \\N\n",
      "1  El tango del viudo y su espejo deformante  movie   2020  \\N\n",
      "2                 The Other Side of the Wind  movie   2018  \\N\n",
      "3                            Sabse Bada Sukh  movie   2018  \\N\n",
      "4                                      Kokoa  short   2019  \\N\n"
     ]
    },
    {
     "data": {
      "text/plain": [
       "576672"
      ]
     },
     "execution_count": 142,
     "metadata": {},
     "output_type": "execute_result"
    }
   ],
   "source": [
    "df2 = pd.read_csv('movies.csv', encoding='utf8')\n",
    "print(df2.head())\n",
    "year = int(2013)\n",
    "imdb_movies = df2[df2['start'].isin([year, year-1])]['title'].tolist()\n",
    "len(imdb_movies)"
   ]
  },
  {
   "cell_type": "code",
   "execution_count": 1,
   "metadata": {},
   "outputs": [
    {
     "ename": "NameError",
     "evalue": "name 'df2' is not defined",
     "output_type": "error",
     "traceback": [
      "\u001b[0;31m---------------------------------------------------------------------------\u001b[0m",
      "\u001b[0;31mNameError\u001b[0m                                 Traceback (most recent call last)",
      "\u001b[0;32m<ipython-input-1-8622ec7e3c29>\u001b[0m in \u001b[0;36m<module>\u001b[0;34m\u001b[0m\n\u001b[1;32m      1\u001b[0m \u001b[0myear\u001b[0m \u001b[0;34m=\u001b[0m \u001b[0;36m2013\u001b[0m\u001b[0;34m\u001b[0m\u001b[0;34m\u001b[0m\u001b[0m\n\u001b[0;32m----> 2\u001b[0;31m \u001b[0mtwo_years\u001b[0m \u001b[0;34m=\u001b[0m \u001b[0mdf2\u001b[0m\u001b[0;34m[\u001b[0m\u001b[0mdf2\u001b[0m\u001b[0;34m[\u001b[0m\u001b[0;34m'start'\u001b[0m\u001b[0;34m]\u001b[0m\u001b[0;34m.\u001b[0m\u001b[0misin\u001b[0m\u001b[0;34m(\u001b[0m\u001b[0;34m[\u001b[0m\u001b[0myear\u001b[0m\u001b[0;34m,\u001b[0m \u001b[0myear\u001b[0m\u001b[0;34m-\u001b[0m\u001b[0;36m1\u001b[0m\u001b[0;34m]\u001b[0m\u001b[0;34m)\u001b[0m\u001b[0;34m]\u001b[0m\u001b[0;34m\u001b[0m\u001b[0;34m\u001b[0m\u001b[0m\n\u001b[0m\u001b[1;32m      3\u001b[0m \u001b[0mt\u001b[0m \u001b[0;34m=\u001b[0m \u001b[0;34m'Django Unchained'\u001b[0m\u001b[0;34m\u001b[0m\u001b[0;34m\u001b[0m\u001b[0m\n\u001b[1;32m      4\u001b[0m \u001b[0mprint\u001b[0m\u001b[0;34m(\u001b[0m\u001b[0mtwo_years\u001b[0m\u001b[0;34m[\u001b[0m\u001b[0mtwo_years\u001b[0m\u001b[0;34m[\u001b[0m\u001b[0;34m'title'\u001b[0m\u001b[0;34m]\u001b[0m \u001b[0;34m==\u001b[0m \u001b[0mt\u001b[0m\u001b[0;34m]\u001b[0m\u001b[0;34m)\u001b[0m\u001b[0;34m\u001b[0m\u001b[0;34m\u001b[0m\u001b[0m\n",
      "\u001b[0;31mNameError\u001b[0m: name 'df2' is not defined"
     ]
    }
   ],
   "source": [
    "year = 2013\n",
    "two_years = df2[df2['start'].isin([year, year-1])]\n",
    "t = 'Django Unchained'\n",
    "print(two_years[two_years['title'] == t])"
   ]
  },
  {
   "cell_type": "code",
   "execution_count": null,
   "metadata": {},
   "outputs": [],
   "source": []
  },
  {
   "cell_type": "code",
   "execution_count": null,
   "metadata": {},
   "outputs": [],
   "source": []
  },
  {
   "cell_type": "code",
   "execution_count": null,
   "metadata": {},
   "outputs": [],
   "source": []
  }
 ],
 "metadata": {
  "kernelspec": {
   "display_name": "Python 3",
   "language": "python",
   "name": "python3"
  },
  "language_info": {
   "codemirror_mode": {
    "name": "ipython",
    "version": 3
   },
   "file_extension": ".py",
   "mimetype": "text/x-python",
   "name": "python",
   "nbconvert_exporter": "python",
   "pygments_lexer": "ipython3",
   "version": "3.7.4"
  }
 },
 "nbformat": 4,
 "nbformat_minor": 2
}
