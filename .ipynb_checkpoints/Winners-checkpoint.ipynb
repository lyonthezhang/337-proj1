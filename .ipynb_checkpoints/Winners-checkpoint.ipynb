{
 "cells": [
  {
   "cell_type": "code",
   "execution_count": 163,
   "metadata": {},
   "outputs": [],
   "source": [
    "import json\n",
    "import re\n",
    "import string\n",
    "import spacy\n",
    "from spacy.matcher import Matcher\n",
    "from fuzzywuzzy import fuzz\n",
    "import pandas as pd\n",
    "from collections import Counter \n",
    "\n",
    "import nltk\n",
    "from nltk.tokenize import word_tokenize\n",
    "from nltk.tag import pos_tag\n",
    "from nltk.corpus import stopwords\n",
    "\n",
    "# Run the 1st time\n",
    "# nltk.download('punkt')\n",
    "# nltk.download('averaged_perceptron_tagger')\n",
    "# nltk.download('stopwords')\n",
    "# install python-Levenshtein\n",
    "\n",
    "def get_tweet_data(year):\n",
    "    # load tweet data\n",
    "    file_string = 'gg' + str(year) + '.json'\n",
    "    tweets = {}\n",
    "    with open(file_string, 'r') as f:\n",
    "        tweets = json.load(f)\n",
    "    \n",
    "    # extract 'text' field from tweets\n",
    "    tweets = [tweet['text'] for tweet in tweets]\n",
    "    # tweets = [tweet['text'] for tweet in tweets if 'best' in tweet['text'].lower()]\n",
    "    \n",
    "    # remove @,# tokens\n",
    "    tweets = [remove_symbols(tweet) for tweet in tweets]\n",
    "    \n",
    "    return tweets\n",
    "\n",
    "def remove_symbols(a_tweet):\n",
    "    entity_prefixes = ['@','#','(',')']\n",
    "    words = []\n",
    "    for word in a_tweet.split():\n",
    "        word = word.strip()\n",
    "        if word and word.lower() != 'rt':\n",
    "            if word[0].lower() not in entity_prefixes:\n",
    "                words.append(word)\n",
    "    return ' '.join(words)\n",
    "\n",
    "def tweets_contain(category_name, tweets):\n",
    "    stop_words = set(stopwords.words('english'))\n",
    "    stop_words.add('-')\n",
    "    stop_words.add('performance')\n",
    "    stop_words.add('comedy')\n",
    "    stop_words.add('television')\n",
    "\n",
    "    tokens = nltk.word_tokenize(category_name)\n",
    "    no_stop_words = [w for w in tokens if not w in stop_words] \n",
    "    \n",
    "    regex = r''\n",
    "    for token in no_stop_words:\n",
    "        regex += token\n",
    "        regex += '.*?'\n",
    "        \n",
    "#     regex = category_name\n",
    "    r = re.compile(regex, re.IGNORECASE)\n",
    "    filtered_list = list(filter(r.search, tweets))\n",
    "    \n",
    "    if 'act' not in category_name:\n",
    "        filtered_list = [x for x in filtered_list if 'act' not in x.lower()]\n",
    "    \n",
    "    return filtered_list\n",
    "\n",
    "def get_NNP(tweets_list):\n",
    "    NNP_dict = {}\n",
    "    for tweet in tweets_list:\n",
    "        tokens = nltk.word_tokenize(tweet)\n",
    "        tags = nltk.pos_tag(tokens)\n",
    "        for word in tags:\n",
    "            if word[1] in ['NNP']:\n",
    "                name = word[0].lower()\n",
    "                if name in NNP_dict:\n",
    "                    NNP_dict[name] += 1\n",
    "                else:\n",
    "                    NNP_dict[name] = 1\n",
    "    return NNP_dict\n",
    "\n",
    "def get_top_percent(dictionary, percentile):\n",
    "    if dictionary == {}:\n",
    "        return []\n",
    "    max_val = max(dictionary.values())\n",
    "    threshold = max_val * percentile\n",
    "    result = []\n",
    "    for key in dictionary:\n",
    "        if dictionary[key] > threshold:\n",
    "            result.append(key)\n",
    "    return result\n",
    "\n",
    "def remove_category_tokens(category, pronouns_dict):\n",
    "    tokens = nltk.word_tokenize(category)\n",
    "    tokens += ['motion picture', 'golden', 'globes', 'television series', 'tv series', 'mini-', 'rt','⁰']\n",
    "    \n",
    "    stop_words = set(stopwords.words('english'))\n",
    "    tokens = [w for w in tokens if not w in stop_words] \n",
    "    \n",
    "    for token in tokens:\n",
    "        for key in pronouns_dict:\n",
    "            if token in key:\n",
    "#                 print(token, key)\n",
    "                pronouns_dict[key] = 0\n",
    "    return pronouns_dict\n",
    "\n",
    "def get_category_nominees(category, tweets, nlp):\n",
    "    # filter for tweets which contain the category name regex\n",
    "    category_tweets = tweets_contain(category, tweets)\n",
    "\n",
    "    # create a dictionary of person names/film titles\n",
    "    if 'actor' in category or 'actress' in category:\n",
    "        pronouns_dictionary = get_person_names(category_tweets, nlp)\n",
    "    else:\n",
    "        pronouns_dictionary = get_person_names(category_tweets, nlp)\n",
    "        # pronouns_dictionary = get_NNP(category_tweets)\n",
    "\n",
    "    # remove tokens contained in the category name\n",
    "    filtered_category_tweets = remove_category_tokens(category, pronouns_dictionary)\n",
    "\n",
    "    # get pronouns with >some_percentile frequency \n",
    "    category_nominees = get_top_percent(filtered_category_tweets, percentile=0.85)\n",
    "    \n",
    "    return category_nominees\n",
    "\n",
    "def run_winners(year):\n",
    "    tweets = get_tweet_data(year)\n",
    "    \n",
    "    seperator = ' '\n",
    "    nominees = {}\n",
    "    OFFICIAL_AWARDS_1315 = ['cecil b. demille award', 'best motion picture - drama', 'best performance by an actress in a motion picture - drama', 'best performance by an actor in a motion picture - drama', 'best motion picture - comedy or musical', 'best performance by an actress in a motion picture - comedy or musical', 'best performance by an actor in a motion picture - comedy or musical', 'best animated feature film', 'best foreign language film', 'best performance by an actress in a supporting role in a motion picture', 'best performance by an actor in a supporting role in a motion picture', 'best director - motion picture', 'best screenplay - motion picture', 'best original score - motion picture', 'best original song - motion picture', 'best television series - drama', 'best performance by an actress in a television series - drama', 'best performance by an actor in a television series - drama', 'best television series - comedy or musical', 'best performance by an actress in a television series - comedy or musical', 'best performance by an actor in a television series - comedy or musical', 'best mini-series or motion picture made for television', 'best performance by an actress in a mini-series or motion picture made for television', 'best performance by an actor in a mini-series or motion picture made for television', 'best performance by an actress in a supporting role in a series, mini-series or motion picture made for television', 'best performance by an actor in a supporting role in a series, mini-series or motion picture made for television']\n",
    "    OFFICIAL_AWARDS_1819 = ['best motion picture - drama', 'best motion picture - musical or comedy', 'best performance by an actress in a motion picture - drama', 'best performance by an actor in a motion picture - drama', 'best performance by an actress in a motion picture - musical or comedy', 'best performance by an actor in a motion picture - musical or comedy', 'best performance by an actress in a supporting role in any motion picture', 'best performance by an actor in a supporting role in any motion picture', 'best director - motion picture', 'best screenplay - motion picture', 'best motion picture - animated', 'best motion picture - foreign language', 'best original score - motion picture', 'best original song - motion picture', 'best television series - drama', 'best television series - musical or comedy', 'best television limited series or motion picture made for television', 'best performance by an actress in a limited series or a motion picture made for television', 'best performance by an actor in a limited series or a motion picture made for television', 'best performance by an actress in a television series - drama', 'best performance by an actor in a television series - drama', 'best performance by an actress in a television series - musical or comedy', 'best performance by an actor in a television series - musical or comedy', 'best performance by an actress in a supporting role in a series, limited series or motion picture made for television', 'best performance by an actor in a supporting role in a series, limited series or motion picture made for television', 'cecil b. demille award']\n",
    "\n",
    "    if year in [2013, 2015, '2013', '2015']:\n",
    "        categories = OFFICIAL_AWARDS_1315\n",
    "    else:\n",
    "        categories = OFFICIAL_AWARDS_1819\n",
    "    \n",
    "    nlp = spacy.load('en_core_web_sm')\n",
    "    for category_name in categories:\n",
    "        category_nominees_list = get_category_nominees(category_name, tweets, nlp)\n",
    "        category_nominees_string = seperator.join(category_nominees_list)\n",
    "        # if not any(x in category_name for x in ['act', 'director', 'cecil']):\n",
    "        #     category_nominees_string = find_movie_title(category_nominees_string, year, category_name, nlp)\n",
    "        nominees[category_name] = category_nominees_string\n",
    "        print(category_name, ':', category_nominees_string)\n",
    "    return nominees\n",
    "\n",
    "def find_movie_title(string, year, category_name, nlp):\n",
    "    # name = extract_full_name(nlp('quentin tarantino django'), nlp)\n",
    "    # if name:\n",
    "    #     string = string.replace(name, '')\n",
    "    \n",
    "    # get movie titles in [year-1 to year]\n",
    "    df = pd.read_csv('movies.csv', encoding='utf8')\n",
    "    if 'television' not in category_name:\n",
    "        print('movies only !!', category_name)\n",
    "        df = df[df['type'].isin(['movie', 'tvMovie'])]\n",
    "    year = int(year)\n",
    "    imdb_movies = df[df['start'].isin([year, year-1])]['title'].tolist()\n",
    "\n",
    "    max_ratio = 60\n",
    "    max_title = string\n",
    "    for title in imdb_movies:\n",
    "        r = fuzz.token_sort_ratio(string, title)\n",
    "        if r > max_ratio:\n",
    "            print(fuzz.token_sort_ratio(string, title), fuzz.token_sort_ratio(title, string), title, string)\n",
    "            max_ratio = r\n",
    "            max_title = title\n",
    "        if r == 100:\n",
    "            break\n",
    "    return max_title\n",
    "\n",
    "# def find_movie_title(string, year):\n",
    "#     # get movie titles in [year-1 to year]\n",
    "#     df = pd.read_csv('IMDB-Movie-Data.csv')\n",
    "#     year = int(year)\n",
    "#     df_year = df[df['Year'].isin([year, year-1])]\n",
    "#     imdb_movies = df_year['Title'].tolist()\n",
    "    \n",
    "#     max_ratio = 60\n",
    "#     max_title = string\n",
    "#     for title in imdb_movies:\n",
    "#         r = fuzz.token_sort_ratio(string, title)\n",
    "#         if r > max_ratio:\n",
    "#             max_ratio = r\n",
    "#             max_title = title\n",
    "#     return max_title\n",
    "\n",
    "def get_person_names(list_of_tweets, nlp):\n",
    "    '''\n",
    "    Input: a list of strings\n",
    "    Returns: a dictionary where keys = actor/actress names, values = number of times the key is references in the list of tweets\n",
    "    '''\n",
    "    names_dictionary = {}\n",
    "    for tweet in list_of_tweets:\n",
    "        # name = extract_full_name(nlp(tweet), nlp)\n",
    "        names = get_person(nlp(tweet))\n",
    "        if names:\n",
    "            for name in names:\n",
    "                name = name.lower()\n",
    "                if name in names_dictionary:\n",
    "                    names_dictionary[name] += 1\n",
    "                else:\n",
    "                    names_dictionary[name] = 1\n",
    "    return names_dictionary\n",
    "      \n",
    "def extract_full_name(nlp_doc, nlp):\n",
    "    matcher = Matcher(nlp.vocab)\n",
    "    pattern = [{'POS': 'PROPN'}, {'POS': 'PROPN'}]\n",
    "    matcher.add('FULL_NAME', None, pattern)\n",
    "    matches = matcher(nlp_doc)\n",
    "    for match_id, start, end in matches:\n",
    "        span = nlp_doc[start:end]\n",
    "        return span.text\n",
    "\n",
    "def get_person(tweet):\n",
    "    words = [(ent.text, ent.label_) for ent in tweet.ents]\n",
    "    return ([token[0] for token in list(filter(lambda x: \"PERSON\" in x, words))])"
   ]
  },
  {
   "cell_type": "code",
   "execution_count": 170,
   "metadata": {},
   "outputs": [
    {
     "name": "stdout",
     "output_type": "stream",
     "text": [
      "cecil b. demille award : jodie foster\n",
      "best motion picture - drama : ben affleck clooney\n",
      "best performance by an actress in a motion picture - drama : jessica chastain\n",
      "best performance by an actor in a motion picture - drama : daniel day lewis\n",
      "best motion picture - comedy or musical : les miserables\n",
      "best performance by an actress in a motion picture - comedy or musical : jennifer lawrence\n",
      "best performance by an actor in a motion picture - comedy or musical : hugh jackman\n",
      "best animated feature film : ralph\n",
      "best foreign language film : amour\n",
      "best performance by an actress in a supporting role in a motion picture : anne hathaway\n",
      "best performance by an actor in a supporting role in a motion picture : \n",
      "best director - motion picture : ben affleck\n",
      "best screenplay - motion picture : quentin tarantino\n",
      "best original score - motion picture : mychael danna\n",
      "best original song - motion picture : adele\n",
      "best television series - drama : claire danes\n",
      "best performance by an actress in a television series - drama : claire danes\n",
      "best performance by an actor in a television series - drama : damian lewis\n",
      "best television series - comedy or musical : jody lee lipes '\n",
      "best performance by an actress in a television series - comedy or musical : lena dunham\n",
      "best performance by an actor in a television series - comedy or musical : don cheadle\n",
      "best mini-series or motion picture made for television : \n",
      "best performance by an actress in a mini-series or motion picture made for television : maggie smith\n",
      "best performance by an actor in a mini-series or motion picture made for television : kevin costner\n",
      "best performance by an actress in a supporting role in a series, mini-series or motion picture made for television : maggie smith downton abbey\n",
      "best performance by an actor in a supporting role in a series, mini-series or motion picture made for television : \n"
     ]
    }
   ],
   "source": [
    "year = '2013'\n",
    "winners = run_winners(year)"
   ]
  },
  {
   "cell_type": "code",
   "execution_count": 177,
   "metadata": {},
   "outputs": [],
   "source": [
    "f = open(str(year) + \"Winners.txt\", \"w\")\n",
    "\n",
    "for key in winners:\n",
    "    f.write(f\"Award: {key}\\nWinner: {winners[key]} \\n\")\n",
    "\n",
    "f.close()"
   ]
  },
  {
   "cell_type": "code",
   "execution_count": null,
   "metadata": {},
   "outputs": [],
   "source": []
  },
  {
   "cell_type": "code",
   "execution_count": null,
   "metadata": {},
   "outputs": [],
   "source": []
  },
  {
   "cell_type": "code",
   "execution_count": 82,
   "metadata": {},
   "outputs": [],
   "source": []
  },
  {
   "cell_type": "code",
   "execution_count": 144,
   "metadata": {},
   "outputs": [],
   "source": [
    "year = 2013\n",
    "tweets = get_tweet_data(year)\n",
    "nlp = spacy.load('en_core_web_sm')"
   ]
  },
  {
   "cell_type": "code",
   "execution_count": 128,
   "metadata": {},
   "outputs": [
    {
     "name": "stdout",
     "output_type": "stream",
     "text": [
      "579\n",
      "{'clinton': 1, 'bill clinton': 10, 'drama': 0, 'ganadora \"una': 1, 'spielberg': 1, 'julia roberts': 0, 'ben affleck': 84, 'jennifer garner': 1, \"ben affleck's\": 1, 'ben': 3, 'clooney': 75, 'argo wins': 10, 'argo': 1, 'bien': 1, 'bagaimana': 1, \"c'est bon\": 1, 'autre sur ma': 1, 'oscar': 4, 'congrats argo': 1, \"que gane '\": 1, 'pero también': 1, 'chris terrio': 1, 'yay bne afflcke': 1, 'arog wins': 3, 'http://t.co/ivo6tjcz clooney': 1, 'congrats': 1, 'congrats ben affleck': 1, 'go ben': 2, 'david klawans': 2, 'mendengar sorak-sorai': 0, 'ベンアフやったね': 1, 'naman': 1, 'julia': 1, 'congrats george clooney': 1, 'drama category': 0, 'john goodman': 2, 'altin kure': 2, \"cem yilmaz'i da gordu sonunda\": 2, 'dhuar': 1, 'affleck': 1}\n",
      "['ben affleck', 'clooney']\n"
     ]
    }
   ],
   "source": [
    "# category = 'best performance by an actor in a supporting role in a series, mini-series or motion picture made for television'\n",
    "# category = 'best performance by an actress in a motion picture - drama'\n",
    "# category = 'best performance by an actress in a mini-series or motion picture made for television'\n",
    "# category = 'Best Actress in a Mini-series or TV Movie'.lower()\n",
    "category = 'best motion picture - drama'\n",
    "\n",
    "# stop_words = set(stopwords.words('english'))\n",
    "# stop_words.add('-')\n",
    "# stop_words.add('performance')\n",
    "# stop_words.add('comedy')\n",
    "# stop_words.add('television')\n",
    "\n",
    "# tokens = nltk.word_tokenize(category)\n",
    "# no_stop_words = [w for w in tokens if not w in stop_words] \n",
    "# print(no_stop_words)\n",
    "\n",
    "# # filter for tweets which contain the category name regex\n",
    "category_tweets = tweets_contain(category, tweets)\n",
    "\n",
    "# create a dictionary of person names/film titles\n",
    "if 'actor' in category or 'actress' in category:\n",
    "    pronouns_dictionary = get_person_names(category_tweets, nlp)\n",
    "else:\n",
    "    pronouns_dictionary = get_person_names(category_tweets, nlp)\n",
    "\n",
    "# remove tokens contained in the category name\n",
    "filtered_category_tweets = remove_category_tokens(category, pronouns_dictionary)\n",
    "\n",
    "# # get pronouns with >some_percentile frequency \n",
    "category_nominees = get_top_percent(filtered_category_tweets, percentile=0.85)\n",
    "\n",
    "\n",
    "print(len(category_tweets))\n",
    "# category_tweets[0:100]\n",
    "\n",
    "print(pronouns_dictionary)\n",
    "print(category_nominees)"
   ]
  },
  {
   "cell_type": "code",
   "execution_count": 145,
   "metadata": {},
   "outputs": [
    {
     "data": {
      "text/plain": [
       "{'argo wins': 3}"
      ]
     },
     "execution_count": 145,
     "metadata": {},
     "output_type": "execute_result"
    }
   ],
   "source": [
    "get_person_names(category_tweets[100:110], nlp)"
   ]
  },
  {
   "cell_type": "code",
   "execution_count": 150,
   "metadata": {},
   "outputs": [
    {
     "name": "stdout",
     "output_type": "stream",
     "text": [
      "['Best motion picture drama goes to Argo', 'Best Motion Picture - Drama - Argo -', 'Affleck! Argo Wins Best Motion Picture Drama!', 'Well deserved! “@BuzzFeed: Affleck! Argo Wins Best Motion Picture Drama!', 'Argo wins the best Motion picture Drama! , that is a surprise!', 'Best Motion Picture - Drama - Argo -', 'Argo WINS for Best Motion Picture Drama!', 'Whoa! That was a surprise! Argo wins Best Motion Picture Drama! Great movie nonetheless', 'best motion picture drama goes to Argo. Wow. Very surprised. Affleck is getting his own back!', 'Affleck! Argo Wins Best Motion Picture Drama!']\n"
     ]
    },
    {
     "data": {
      "text/plain": [
       "['quentin tarantino']"
      ]
     },
     "execution_count": 150,
     "metadata": {},
     "output_type": "execute_result"
    }
   ],
   "source": [
    "print(category_tweets[100:110])\n",
    "get_person(nlp('quentin tarantino django'))"
   ]
  },
  {
   "cell_type": "code",
   "execution_count": 72,
   "metadata": {},
   "outputs": [],
   "source": [
    "def tweets_contain(category_name, tweets):\n",
    "    stop_words = set(stopwords.words('english'))\n",
    "    stop_words.add('-')\n",
    "    stop_words.add('performance')\n",
    "    stop_words.add('comedy')\n",
    "    stop_words.add('television')\n",
    "    stop_words.add(',')\n",
    "    stop_words.add('role')\n",
    "    stop_words.add('motion')\n",
    "    stop_words.add('picture')\n",
    "\n",
    "    tokens = nltk.word_tokenize(category_name)\n",
    "    no_stop_words = [w for w in tokens if not w in stop_words] \n",
    "    \n",
    "#     regex = r''\n",
    "#     for token in no_stop_words:\n",
    "#         regex += token\n",
    "#         regex += '.*?'\n",
    "        \n",
    "# #     regex = category_name\n",
    "#     r = re.compile(regex, re.IGNORECASE)\n",
    "#     filtered_list = list(filter(r.search, tweets))\n",
    "\n",
    "#     ts = tweets\n",
    "#     for w in no_stop_words:\n",
    "#         ts2 = []\n",
    "#         for t in ts:\n",
    "#             if w in t:\n",
    "#                 ts2.append(t)\n",
    "#         ts = ts2\n",
    "#     filtered_list = ts\n",
    "\n",
    "    print(category_name, no_stop_words)\n",
    "\n",
    "    filtered_list = []\n",
    "    for t in tweets:\n",
    "        if all(x in t.lower() for x in no_stop_words):\n",
    "            filtered_list.append(t)\n",
    "    \n",
    "    if 'act' not in category_name:\n",
    "        filtered_list = [x for x in filtered_list if 'act' not in x.lower()]\n",
    "    \n",
    "    return filtered_list\n"
   ]
  },
  {
   "cell_type": "code",
   "execution_count": null,
   "metadata": {},
   "outputs": [],
   "source": []
  },
  {
   "cell_type": "code",
   "execution_count": null,
   "metadata": {},
   "outputs": [],
   "source": []
  },
  {
   "cell_type": "code",
   "execution_count": null,
   "metadata": {},
   "outputs": [],
   "source": []
  },
  {
   "cell_type": "code",
   "execution_count": null,
   "metadata": {},
   "outputs": [],
   "source": []
  },
  {
   "cell_type": "code",
   "execution_count": null,
   "metadata": {},
   "outputs": [],
   "source": []
  },
  {
   "cell_type": "code",
   "execution_count": null,
   "metadata": {},
   "outputs": [],
   "source": []
  },
  {
   "cell_type": "code",
   "execution_count": null,
   "metadata": {},
   "outputs": [],
   "source": []
  },
  {
   "cell_type": "code",
   "execution_count": null,
   "metadata": {},
   "outputs": [],
   "source": []
  },
  {
   "cell_type": "code",
   "execution_count": null,
   "metadata": {},
   "outputs": [],
   "source": []
  },
  {
   "cell_type": "code",
   "execution_count": null,
   "metadata": {},
   "outputs": [],
   "source": []
  },
  {
   "cell_type": "code",
   "execution_count": null,
   "metadata": {},
   "outputs": [],
   "source": []
  },
  {
   "cell_type": "code",
   "execution_count": null,
   "metadata": {},
   "outputs": [],
   "source": []
  },
  {
   "cell_type": "code",
   "execution_count": null,
   "metadata": {},
   "outputs": [],
   "source": []
  },
  {
   "cell_type": "code",
   "execution_count": null,
   "metadata": {},
   "outputs": [],
   "source": []
  },
  {
   "cell_type": "code",
   "execution_count": null,
   "metadata": {},
   "outputs": [],
   "source": []
  },
  {
   "cell_type": "code",
   "execution_count": null,
   "metadata": {},
   "outputs": [],
   "source": []
  },
  {
   "cell_type": "code",
   "execution_count": null,
   "metadata": {},
   "outputs": [],
   "source": []
  },
  {
   "cell_type": "code",
   "execution_count": null,
   "metadata": {},
   "outputs": [],
   "source": []
  },
  {
   "cell_type": "code",
   "execution_count": null,
   "metadata": {},
   "outputs": [],
   "source": []
  },
  {
   "cell_type": "code",
   "execution_count": null,
   "metadata": {},
   "outputs": [],
   "source": []
  },
  {
   "cell_type": "code",
   "execution_count": null,
   "metadata": {},
   "outputs": [],
   "source": []
  },
  {
   "cell_type": "code",
   "execution_count": null,
   "metadata": {},
   "outputs": [],
   "source": []
  },
  {
   "cell_type": "code",
   "execution_count": null,
   "metadata": {},
   "outputs": [],
   "source": []
  },
  {
   "cell_type": "code",
   "execution_count": null,
   "metadata": {},
   "outputs": [],
   "source": []
  },
  {
   "cell_type": "code",
   "execution_count": null,
   "metadata": {},
   "outputs": [],
   "source": []
  },
  {
   "cell_type": "code",
   "execution_count": null,
   "metadata": {},
   "outputs": [],
   "source": []
  },
  {
   "cell_type": "code",
   "execution_count": null,
   "metadata": {},
   "outputs": [],
   "source": []
  },
  {
   "cell_type": "code",
   "execution_count": null,
   "metadata": {},
   "outputs": [],
   "source": []
  },
  {
   "cell_type": "code",
   "execution_count": null,
   "metadata": {},
   "outputs": [],
   "source": []
  },
  {
   "cell_type": "code",
   "execution_count": 161,
   "metadata": {},
   "outputs": [],
   "source": [
    "def remove_stopwords(text):\n",
    "    stop_words = stopwords.words('english')\n",
    "    stop_words.append('performance')\n",
    "    stop_words.append('television')\n",
    "    stop_words.append('motion')\n",
    "    stop_words.append('picture')\n",
    "    stopwords_dict = Counter(stop_words)\n",
    "\n",
    "    text = ' '.join([word for word in text.split() if word not in stopwords_dict])\n",
    "    return text"
   ]
  },
  {
   "cell_type": "code",
   "execution_count": null,
   "metadata": {},
   "outputs": [],
   "source": []
  },
  {
   "cell_type": "code",
   "execution_count": null,
   "metadata": {},
   "outputs": [],
   "source": []
  }
 ],
 "metadata": {
  "kernelspec": {
   "display_name": "Python 3",
   "language": "python",
   "name": "python3"
  },
  "language_info": {
   "codemirror_mode": {
    "name": "ipython",
    "version": 3
   },
   "file_extension": ".py",
   "mimetype": "text/x-python",
   "name": "python",
   "nbconvert_exporter": "python",
   "pygments_lexer": "ipython3",
   "version": "3.7.4"
  }
 },
 "nbformat": 4,
 "nbformat_minor": 2
}
