{
 "cells": [
  {
   "cell_type": "code",
   "execution_count": 153,
   "metadata": {},
   "outputs": [],
   "source": [
    "import pandas as pd"
   ]
  },
  {
   "cell_type": "code",
   "execution_count": 160,
   "metadata": {},
   "outputs": [
    {
     "name": "stdout",
     "output_type": "stream",
     "text": [
      "                                            movie_title  title_year\n",
      "0                                                Avatar      2009.0\n",
      "1              Pirates of the Caribbean: At World's End      2007.0\n",
      "2                                               Spectre      2015.0\n",
      "3                                 The Dark Knight Rises      2012.0\n",
      "4     Star Wars: Episode VII - The Force Awakens    ...         NaN\n",
      "...                                                 ...         ...\n",
      "5040                               A Plague So Pleasant      2013.0\n",
      "5041                                   Shanghai Calling      2012.0\n",
      "5042                                  My Date with Drew      2004.0\n",
      "5043                                        Game Change      2012.0\n",
      "5044                                           Homeland      2012.0\n",
      "\n",
      "[5045 rows x 2 columns]\n"
     ]
    }
   ],
   "source": [
    "# https://www.kaggle.com/carolzhangdc/imdb-5000-movie-dataset\n",
    "\n",
    "df = pd.read_csv('movie_metadata.csv', encoding='utf8')\n",
    "df['movie_title'] = df['movie_title'].str.slice(0, -1)\n",
    "title_year_df = df[['movie_title', 'title_year']]\n",
    "\n",
    "new_movies = []\n",
    "new_movies.append(['Game Change', 2012])\n",
    "new_movies.append(['Homeland', 2012])\n",
    "new_movies.append(['Leviathan', 2015])\n",
    "new_movies.append(['Birdman', 2015])\n",
    "new_movies.append(['The Affair', 2015])\n",
    "new_movies.append(['Transparent', 2015])\n",
    "\n",
    "df2 = pd.DataFrame([new_movies], columns=['movie_title', 'title_year'])\n",
    "title_year_df = title_year_df.append(df2, ignore_index=True)\n",
    "print(title_year_df)\n",
    "\n",
    "title_year_df.to_csv('movies.csv', index=False)  "
   ]
  },
  {
   "cell_type": "code",
   "execution_count": null,
   "metadata": {},
   "outputs": [],
   "source": []
  },
  {
   "cell_type": "code",
   "execution_count": 161,
   "metadata": {},
   "outputs": [],
   "source": [
    "df = pd.read_csv('movies.csv', encoding='utf8')\n",
    "year = int(2015)\n",
    "imdb_movies = df[df['title_year'].isin([year, year-1])]['movie_title'].tolist()"
   ]
  },
  {
   "cell_type": "code",
   "execution_count": 163,
   "metadata": {},
   "outputs": [
    {
     "data": {
      "text/plain": [
       "False"
      ]
     },
     "execution_count": 163,
     "metadata": {},
     "output_type": "execute_result"
    }
   ],
   "source": [
    "'affair' in imdb_movies"
   ]
  },
  {
   "cell_type": "code",
   "execution_count": null,
   "metadata": {},
   "outputs": [],
   "source": []
  },
  {
   "cell_type": "code",
   "execution_count": 134,
   "metadata": {},
   "outputs": [],
   "source": []
  },
  {
   "cell_type": "code",
   "execution_count": null,
   "metadata": {},
   "outputs": [],
   "source": []
  },
  {
   "cell_type": "code",
   "execution_count": null,
   "metadata": {},
   "outputs": [],
   "source": []
  },
  {
   "cell_type": "code",
   "execution_count": null,
   "metadata": {},
   "outputs": [],
   "source": []
  },
  {
   "cell_type": "code",
   "execution_count": null,
   "metadata": {},
   "outputs": [],
   "source": []
  },
  {
   "cell_type": "code",
   "execution_count": null,
   "metadata": {},
   "outputs": [],
   "source": []
  },
  {
   "cell_type": "code",
   "execution_count": 158,
   "metadata": {},
   "outputs": [],
   "source": []
  },
  {
   "cell_type": "code",
   "execution_count": null,
   "metadata": {},
   "outputs": [],
   "source": []
  }
 ],
 "metadata": {
  "kernelspec": {
   "display_name": "Python 3",
   "language": "python",
   "name": "python3"
  },
  "language_info": {
   "codemirror_mode": {
    "name": "ipython",
    "version": 3
   },
   "file_extension": ".py",
   "mimetype": "text/x-python",
   "name": "python",
   "nbconvert_exporter": "python",
   "pygments_lexer": "ipython3",
   "version": "3.7.4"
  }
 },
 "nbformat": 4,
 "nbformat_minor": 2
}
