{
 "cells": [
  {
   "cell_type": "code",
   "execution_count": 6,
   "metadata": {},
   "outputs": [],
   "source": [
    "import json\n",
    "import re\n",
    "import pandas as pd\n",
    "\n",
    "import nltk\n",
    "from nltk.tokenize import word_tokenize\n",
    "from nltk.tag import pos_tag\n",
    "# Run the 1st time\n",
    "# nltk.download('punkt')\n",
    "# nltk.download('averaged_perceptron_tagger')"
   ]
  },
  {
   "cell_type": "code",
   "execution_count": 18,
   "metadata": {},
   "outputs": [],
   "source": [
    "df = pd.read_json('gg2020.json', lines=True)"
   ]
  },
  {
   "cell_type": "code",
   "execution_count": 19,
   "metadata": {},
   "outputs": [
    {
     "name": "stdout",
     "output_type": "stream",
     "text": [
      "(138582, 6)\n"
     ]
    },
    {
     "data": {
      "text/html": [
       "<div>\n",
       "<style scoped>\n",
       "    .dataframe tbody tr th:only-of-type {\n",
       "        vertical-align: middle;\n",
       "    }\n",
       "\n",
       "    .dataframe tbody tr th {\n",
       "        vertical-align: top;\n",
       "    }\n",
       "\n",
       "    .dataframe thead th {\n",
       "        text-align: right;\n",
       "    }\n",
       "</style>\n",
       "<table border=\"1\" class=\"dataframe\">\n",
       "  <thead>\n",
       "    <tr style=\"text-align: right;\">\n",
       "      <th></th>\n",
       "      <th>_id</th>\n",
       "      <th>user_id</th>\n",
       "      <th>text</th>\n",
       "      <th>created_at</th>\n",
       "      <th>user</th>\n",
       "      <th>id</th>\n",
       "    </tr>\n",
       "  </thead>\n",
       "  <tbody>\n",
       "    <tr>\n",
       "      <td>0</td>\n",
       "      <td>{'$oid': '5e17fa7e174f9084edc115f2'}</td>\n",
       "      <td>2414944424</td>\n",
       "      <td>• Priyanka Chopra and Nick Jonas at the 77th A...</td>\n",
       "      <td>2020-01-06 23:59:57</td>\n",
       "      <td>COttavianoNYC</td>\n",
       "      <td>1214335827507122176</td>\n",
       "    </tr>\n",
       "    <tr>\n",
       "      <td>1</td>\n",
       "      <td>{'$oid': '5e17fa7e174f9084edc115f3'}</td>\n",
       "      <td>1002556645669462016</td>\n",
       "      <td>Salma Hayek @salmahayek in Blue Top and White ...</td>\n",
       "      <td>2020-01-06 23:59:54</td>\n",
       "      <td>JarCeleb</td>\n",
       "      <td>1214335817436450816</td>\n",
       "    </tr>\n",
       "    <tr>\n",
       "      <td>2</td>\n",
       "      <td>{'$oid': '5e17fa7e174f9084edc115f4'}</td>\n",
       "      <td>8770932</td>\n",
       "      <td>:).  love it !  \\nGolden Globes: Read Ricky Ge...</td>\n",
       "      <td>2020-01-06 23:59:54</td>\n",
       "      <td>royy</td>\n",
       "      <td>1214335816303988736</td>\n",
       "    </tr>\n",
       "    <tr>\n",
       "      <td>3</td>\n",
       "      <td>{'$oid': '5e17fa7e174f9084edc115f5'}</td>\n",
       "      <td>557046649</td>\n",
       "      <td>Go Ricky G. https://t.co/UuRR57KoQq</td>\n",
       "      <td>2020-01-06 23:59:53</td>\n",
       "      <td>jimdarts311</td>\n",
       "      <td>1214335814068391936</td>\n",
       "    </tr>\n",
       "    <tr>\n",
       "      <td>4</td>\n",
       "      <td>{'$oid': '5e17fa7e174f9084edc115f6'}</td>\n",
       "      <td>879476142347919360</td>\n",
       "      <td>@jcolburnlevy wears @stevenkhalil « Dame en Fl...</td>\n",
       "      <td>2020-01-06 23:59:53</td>\n",
       "      <td>maisonpriveepr</td>\n",
       "      <td>1214335813821046784</td>\n",
       "    </tr>\n",
       "  </tbody>\n",
       "</table>\n",
       "</div>"
      ],
      "text/plain": [
       "                                    _id              user_id  \\\n",
       "0  {'$oid': '5e17fa7e174f9084edc115f2'}           2414944424   \n",
       "1  {'$oid': '5e17fa7e174f9084edc115f3'}  1002556645669462016   \n",
       "2  {'$oid': '5e17fa7e174f9084edc115f4'}              8770932   \n",
       "3  {'$oid': '5e17fa7e174f9084edc115f5'}            557046649   \n",
       "4  {'$oid': '5e17fa7e174f9084edc115f6'}   879476142347919360   \n",
       "\n",
       "                                                text          created_at  \\\n",
       "0  • Priyanka Chopra and Nick Jonas at the 77th A... 2020-01-06 23:59:57   \n",
       "1  Salma Hayek @salmahayek in Blue Top and White ... 2020-01-06 23:59:54   \n",
       "2  :).  love it !  \\nGolden Globes: Read Ricky Ge... 2020-01-06 23:59:54   \n",
       "3                Go Ricky G. https://t.co/UuRR57KoQq 2020-01-06 23:59:53   \n",
       "4  @jcolburnlevy wears @stevenkhalil « Dame en Fl... 2020-01-06 23:59:53   \n",
       "\n",
       "             user                   id  \n",
       "0   COttavianoNYC  1214335827507122176  \n",
       "1        JarCeleb  1214335817436450816  \n",
       "2            royy  1214335816303988736  \n",
       "3     jimdarts311  1214335814068391936  \n",
       "4  maisonpriveepr  1214335813821046784  "
      ]
     },
     "execution_count": 19,
     "metadata": {},
     "output_type": "execute_result"
    }
   ],
   "source": [
    "print(df.shape)\n",
    "df.head(5)"
   ]
  },
  {
   "cell_type": "code",
   "execution_count": 20,
   "metadata": {},
   "outputs": [
    {
     "name": "stdout",
     "output_type": "stream",
     "text": [
      "(4288, 6)\n"
     ]
    }
   ],
   "source": [
    "host_df = df[df['text'].str.contains('host')]\n",
    "print(host_df.shape)"
   ]
  },
  {
   "cell_type": "code",
   "execution_count": 21,
   "metadata": {},
   "outputs": [
    {
     "name": "stdout",
     "output_type": "stream",
     "text": [
      "4288\n"
     ]
    }
   ],
   "source": [
    "host_tweet_list = host_df['text'].tolist()\n",
    "print(len(host_tweet_list))"
   ]
  },
  {
   "cell_type": "code",
   "execution_count": 22,
   "metadata": {},
   "outputs": [
    {
     "name": "stdout",
     "output_type": "stream",
     "text": [
      "The Golden Globes will always want Ricky Gervais to host: The left tunes in for one part (the awards), the right tunes in for the other (the jokes), and the center tunes in for both. How many TV shows can say that?\n",
      "['The', 'Golden', 'Globes', 'will', 'always', 'want', 'Ricky', 'Gervais', 'to', 'host', ':', 'The', 'left', 'tunes', 'in', 'for', 'one', 'part', '(', 'the', 'awards', ')', ',', 'the', 'right', 'tunes', 'in', 'for', 'the', 'other', '(', 'the', 'jokes', ')', ',', 'and', 'the', 'center', 'tunes', 'in', 'for', 'both', '.', 'How', 'many', 'TV', 'shows', 'can', 'say', 'that', '?']\n",
      "[('The', 'DT'), ('Golden', 'NNP'), ('Globes', 'NNP'), ('will', 'MD'), ('always', 'RB'), ('want', 'VB'), ('Ricky', 'NNP'), ('Gervais', 'NNP'), ('to', 'TO'), ('host', 'VB'), (':', ':'), ('The', 'DT'), ('left', 'NN'), ('tunes', 'VBZ'), ('in', 'IN'), ('for', 'IN'), ('one', 'CD'), ('part', 'NN'), ('(', '('), ('the', 'DT'), ('awards', 'NNS'), (')', ')'), (',', ','), ('the', 'DT'), ('right', 'JJ'), ('tunes', 'NNS'), ('in', 'IN'), ('for', 'IN'), ('the', 'DT'), ('other', 'JJ'), ('(', '('), ('the', 'DT'), ('jokes', 'NNS'), (')', ')'), (',', ','), ('and', 'CC'), ('the', 'DT'), ('center', 'NN'), ('tunes', 'NNS'), ('in', 'IN'), ('for', 'IN'), ('both', 'DT'), ('.', '.'), ('How', 'WRB'), ('many', 'JJ'), ('TV', 'NN'), ('shows', 'NNS'), ('can', 'MD'), ('say', 'VB'), ('that', 'IN'), ('?', '.')]\n"
     ]
    }
   ],
   "source": [
    "tweet = host_tweet_list[0]\n",
    "print(tweet)\n",
    "\n",
    "tokens = nltk.word_tokenize(tweet)\n",
    "print(tokens)\n",
    "\n",
    "tags = nltk.pos_tag(tokens)\n",
    "print(tags)\n"
   ]
  },
  {
   "cell_type": "code",
   "execution_count": null,
   "metadata": {},
   "outputs": [],
   "source": []
  },
  {
   "cell_type": "code",
   "execution_count": 23,
   "metadata": {},
   "outputs": [],
   "source": [
    "names_dictionary = {}\n",
    "\n",
    "for tweet in host_tweet_list:\n",
    "    tokens = nltk.word_tokenize(tweet)\n",
    "    tags = nltk.pos_tag(tokens)\n",
    "    for word in tags:\n",
    "        if word[1] in ['NNP']:\n",
    "            name = word[0].lower()\n",
    "            if name in names_dictionary:\n",
    "                names_dictionary[name] += 1\n",
    "            else:\n",
    "                names_dictionary[name] = 1"
   ]
  },
  {
   "cell_type": "code",
   "execution_count": 24,
   "metadata": {},
   "outputs": [
    {
     "name": "stdout",
     "output_type": "stream",
     "text": [
      "{'golden': 3315, 'globes': 2298, 'ricky': 2270, 'gervais': 2356, 'neotatsujin': 1, '@': 1044, 'well': 20, 'mattmattmatt_23': 1, 'fuck': 15, 'not': 14, 'which': 6, 'usa': 5, 'america': 10, 'mr.': 8, 'gervias': 2, 'mel': 4, 'gibson': 3, 'ever': 8, 'salma': 5, 'hayek': 5, 'bombshell': 3, 'beauty': 3, 'flaunt': 1, 'asset': 1, 'fan': 1, 'red': 14, 'hollywood': 1137, 'foreign': 28, 'press': 28, 'association': 15, 'beverly': 71, 'hilton': 37, 'hotel': 4, 'sunday': 147, 'raymond': 15, 'arroyo': 16, '–': 35, 'too': 34, 'whiton': 2, 'if': 2, 'you': 7, 'globe': 1009, 'awards': 908, '’': 355, '•': 4, '“': 61, 'best': 43, 'great': 17, 'rickygervais': 150, 'lol': 14, 'epstein': 54, 'caitlinpacific': 1, 'disney': 673, 'amazon': 685, 'apple': 741, 'dems': 1, 'goldenglobes': 316, '_andekarim': 1, 'nigee_uno': 1, 'or': 4, 'black': 2, 'blacklisted': 1, 'never': 6, 'hey': 15, 'twitter': 22, '😂': 13, 'iamjohnburnett': 1, 'jonathanhoenig': 1, 'kristinaparts': 1, 'msm': 2, 'hasbeyn': 2, 'emmys': 6, 'oscars': 45, 'godga': 1, 'oscar': 14, 'bafta': 1, 'crowd': 3, 'back': 2, 'life': 12, 'highsierraman': 1, 'ny': 1, 'times': 6, 'bottom': 1, 'kudos': 5, 'cbc': 11, 'news': 75, 'love': 15, 'ozraeliavi': 1, 'bingo': 1, 'tom': 33, 'hanks': 31, 'nah': 2, 'eh': 1, 'rickygervaisrocks': 1, 'goldengiobes': 28, 'might': 3, 'trump': 20, 'de': 5, 'nero': 2, 'again': 4, 'sydneylwatson': 1, 'lord': 2, 'kino': 1, 'robert': 3, 'tv': 19, 'napoli': 1, 'lorraineali': 8, 'brit': 2, 'kevin': 33, 'me': 7, 'forum': 2, 'academy': 7, '”': 68, 'goldderby': 12, 'dear': 4, 'cats': 17, 'taylor': 36, 'conservatives': 1, 'andrew': 17, 'sullivan': 1, 'nye': 1, 'amy': 18, 'poehler': 13, 'bff': 1, 'tina': 18, 'fey': 12, 'swift': 13, 'idk': 6, 'prince': 15, 'please': 21, 'midge': 1, 'maisel': 2, 'nbc': 54, 'ronan': 2, 'farrow': 2, 'harvey': 16, 'weinstein': 23, 'germain': 1, 'get': 5, 'bizpacreview': 1, 'excellent': 1, 'bill': 2, 'burr': 2, 'wottpod': 1, '_marketmarvel': 1, '_lewisvincent': 1, 'leodicaprio': 3, 'yep': 1, 'go': 9, '|': 41, 'fox': 50, 'afterlife': 5, 'annual': 109, 'beautiful': 31, 'ghosts': 18, 'movie': 2, 'sandra': 5, 'oh': 11, 'brooklyn': 1, 'gervasis': 1, 'thread': 1, 'rickey': 8, 'rick': 14, 'complexpop': 1, 'youtube': 17, 'howardkurtz': 1, 'iran': 16, 'mediabuzzmeter': 1, 'click': 2, 'wear': 1, 'abc': 4, 'pensacola': 1, 'markharrisnyc': 1, 'fu': 1, 'was': 14, 'matt': 1, 'lauer': 1, 'phoenix': 8, 'voters': 1, 'bs': 5, 'did': 24, 'just': 16, 'franklin': 1, 'graham': 4, 'fiweh': 5, 'turkey': 1, 'carminesabia': 1, 'googlenews': 9, '‘': 46, 'fleabag': 17, 'geekwire': 4, 'amazonnews': 1, 'amzn': 1, 'thank': 39, 'elites': 3, 'slate': 8, 'toniconfid': 1, 'ser1897': 1, 'faith_salie': 1, 'billkurtis1': 1, 'kuow': 1, 'pissy': 1, 'ironic': 1, 'plot': 1, 'aus': 1, 'omaniblog': 1, 'tachiada': 1, 'hart': 30, 'mcfc4h': 1, 'incorrect': 1, 'imo': 1, 'no': 11, 'jeffrey': 33, 'one': 3, 'china': 12, 'isisvision': 1, 'babe': 1, '—': 1, 'lets': 2, 'harsh': 1, 'legit': 2, 'grandpa': 1, 'gon': 7, 'na': 2, 'happen': 1, 'responds': 1, 'reaction': 1, 'over': 4, 'performance': 2, 'amazing': 3, 're': 1, 'the': 15, 'man': 5, 'thelaurenchen': 1, 'hilarious': 4, 'award': 34, 'dlhughleyradio': 1, 'world': 9, 'dullest': 1, 'faded': 1, 'ghost': 7, 'australia': 9, 'white': 7, 'nichol': 1, 'kidman': 1, 'material': 1, 'clark1995clark': 1, 'perezhilton': 1, 'billyporter73': 1, 'boofkkgwhoooo': 1, '🍼': 1, 'shut': 6, 'britain': 2, 'nazis': 1, 'm2madness': 3, 'wwg1gwa': 1, 'oil': 1, 'jan': 4, 'matejko': 1, 'steven': 1, 'wright': 1, 'danaschwartzzz': 1, 'saw': 1, 'barrefaeli': 1, 'am': 6, '😂😂': 4, 'average': 1, 'million': 2, 'viewers': 1, 'dave': 3, 'chapelle': 1, 'trump2020landside': 2, '🇺🇸🇺🇸🇺🇸🇺🇸🇺🇸🇺🇸🇺🇸🇺🇸🇺🇸🇺🇸🇺🇸🇺🇸': 1, 'award-winning': 1, 'glengarry': 1, 'glen': 1, 'larson': 1, '[': 14, 'poll': 17, 'results': 15, ']': 24, 'obnoxious': 1, 'kool-aid': 1, 'crosspost': 1, 'stop': 1, 'fred': 1, 'grwnasskid2': 1, 'dinaweather': 1, 'honestly': 2, 'q': 4, 'pedo-wood': 1, 'hollywierd': 1, 'brilliant': 10, 'goldenglobes2020': 67, 'foxbusiness': 1, 'wow': 19, 'globes.👍': 1, 'norwich': 1, 'entertainednow': 5, 'sep': 1, '✅': 1, 'owen': 1, '🤔': 2, '…………………………': 1, 'footballindexrc': 1, 'pacific': 1, 'mo': 3, 'jordankinard': 1, 'colin': 1, 'gopchairwoman': 1, 'mstricknana': 1, 'secpompeo': 1, 'thanks': 4, 'ronna': 1, 'us': 14, 'navy': 1, 'whitneycummings': 4, 'absolute': 2, 'kotocrash': 1, 'chrisrgun': 2, 'sorry': 8, 'op': 1, 'show': 14, '❤️': 3, 'up😂': 1, 'tony': 1, 'jane': 8, 'put': 1, 'these': 1, 'elitist': 1, 'done': 3, 'holy': 8, 'every': 2, 'ff': 2, 'michelle': 3, 'cringe': 1, 'williams': 2, 'spacey': 1, 'sirkmixalot': 1, 'rubinreport': 1, 'dude': 4, 'some': 10, 'fb': 1, 'should': 1, 'have': 2, 'sir': 7, 'the…': 2, 'iwashington': 1, 'monday': 4, 'luvvies': 1, 'a': 16, 'popsugar': 6, 'joey': 3, 'diaz': 2, 'naaa': 1, 'tim': 50, 'cook': 44, 'lmao': 13, '🤣😆😂': 1, 'is': 1, 'bad': 1, 'welcome': 3, 'freedom': 1, 'mosque': 1, 'tehran': 2, 'impeachment': 1, 'nancy': 1, 'pelosi': 1, 'drone': 1, 'historical': 1, 'sites': 1, 'war': 1, 'mr': 6, 'president': 7, 'whom': 1, 'hit': 2, 'katiepavlich': 2, 'greg': 4, 'tyler': 1, 'tidbit~': 1, 'forget': 2, 'calls': 1, 'out': 7, 'complicity': 1, 'scandal': 1, 'familyjoool': 1, 'johnny_joey': 1, 'pr': 1, 'bbcnews': 2, 'entertainment': 5, 'tonight': 18, 'frasier': 1, 'kevinfrasier': 1, 'ah': 3, 'jan.': 9, 'hills': 34, 'hope': 4, 'forkreporter': 2, 'where': 1, 'neil': 1, 'father': 1, 'haddish': 4, 'mtv': 1, 'gave': 1, 'liberal': 3, 'media': 3, 'sads': 1, 'jokes': 4, 'irishman': 7, 'hugh': 1, 'grant': 1, 'niro': 3, 'god': 23, 'featherspet': 1, 'lindamusgrove9': 1, 'unionswe': 1, 'bridgetkf30': 1, 'kg2651': 1, 'marthavineyard4': 1, 'americanethical': 1, 'franknoto3': 1, 'mattytwo2': 1, 'twistedone96': 1, 'duwayn55629746': 2, 'daveforbes12': 1, 'arkiegirl01': 1, 'patriotboss777': 1, 'yume_no_morix2': 1, 'jannawilkinso69': 1, 'stonekeeper3': 1, 'marilynlavala': 2, 'kagrevolution': 1, 'meltinginmarana': 1, 'jaystjames2': 1, 'karenladybug1': 1, 'yellowvestit': 1, 'babz46': 1, 'bostonbren143': 1, 'jemmacolumba': 1, 'rubyredtrump': 1, 'fareedzakaria': 1, 'deserving': 1, 'rz': 1, 'earth': 1, 'lmfao': 3, 'elissa': 2, 'freeman': 2, 'scott': 5, 'public': 1, 'relations': 1, 'consultant': 1, 'scotttalking': 1, 'listen': 5, 'isis': 10, 'way': 2, '✌🏼': 1, 'sent': 1, '🍎': 1, '📱': 1, 'smartnews': 2, 'eddietrunk': 1, 'fyi': 1, 'jimmy': 4, 'kimmel': 1, 'do': 4, 'a-listers': 2, 'bravo': 14, 'lib': 2, 'kids': 1, 'adult': 1, 'libs': 1, 'rebellion': 1, 'glad': 5, 'vacuum': 1, 'twitchyteam': 1, 'aag': 1, 'aag2020': 1, 'and': 4, 'chinese': 4, 'okay': 4, 'calebjhull': 3, 'dumb': 1, 'therealtrizzo': 1, 'ollie': 2, 'scottfeinberg': 2, '😇': 1, 'hell': 2, 'cc': 1, 'blakedoan': 1, 'prodmichelle': 1, 'reason': 1, 'hi': 7, 'uncle': 1, 'c_tipps90': 1, 'nowonmai78': 1, 'afaik': 1, 'host': 11, 'fresh': 1, 'vancouver': 1, 'jordan_sather_': 1, 'does': 2, 'pedowood': 2, 'chardonnay': 1, 'tvbythenumbers': 1, 'oliver': 1, 'reed': 1, 'aa': 1, 'netflix': 17, 'nbc.': 1, 'celebrity': 5, 'r.g': 2, 'breaking911': 1, 'harveyweinstein': 1, 'once': 6, 'thisisrotella': 1, 'realnickaldis': 1, 'kamillebrick': 1, 'timstormnwa': 1, 'aronsthoughts': 1, 'stubennett': 1, 'theodbbam': 1, 'realrickymorton': 1, 'fitetv': 1, 'billy': 5, 'questionthenwa': 1, 'question': 1, 'mark': 3, 'watch': 16, '❌': 1, 'dasmith45387232': 1, 'trust': 4, 'greta': 30, 'thunberg': 23, 'next': 3, 'zlatan': 3, 'presidential': 1, 'weep': 1, 'celebs': 4, 'wounded': 1, 'attack': 2, 'several': 1, 'kate': 27, 'mckinnon': 27, 'ellen': 28, 'degeneres': 18, 'carol': 9, 'burnett': 9, 'etalk': 1, 'anchor': 1, 'social': 2, 'laineygossip': 1, 'buzzfeed': 1, 'lainey': 1, 'et/pt': 1, 'ctv': 1, 'same': 2, 'books_not_wooks': 1, 'katy': 1, 'perry': 2, 'richard': 7, 'ayoade': 1, 'nsfw': 1, 'emmy': 3, 'shane': 1, 'gillis': 1, 'jamesagagliano': 1, 'prosinplanet': 1, 'funny': 3, 'yoh😶😂': 1, 'can': 3, 'maybe': 1, 'radio': 2, 'abq': 1, 'nm': 1, 'epic': 4, 'enjoyed': 1, 'gg': 10, 'pattyarquette': 4, 'gga': 2, 'alive': 1, 'truecoaster': 1, 'start': 3, 'humanity': 1, 'xydexxunicorn': 1, 'malblum': 5, 'capt': 2, 'strudel': 2, 'mcnoodles': 2, 'fu*k': 1, '😬': 1, 'data': 2, 'whtc': 1, 'rather': 1, 'right': 8, 'scant': 1, 'seconds': 1, 'blistering': 1, 'lefty': 1, 'rips': 1, 'at': 3, 'rolling': 1, 'stone': 1, 'elite': 7, 'sag': 4, 'awards.🤣🤣': 1, 'simple': 1, 'neneleakes': 1, 'strahansarakeke': 1, 'fake': 1, 'video': 3, 'leonardo': 18, 'dicaprio': 18, 'reddit': 2, 'yt': 2, 'patricia': 5, 'arquette': 5, 'realcandaceo': 2, 'rg': 2, 'bang': 2, 'luv': 1, 'ranvirshorey': 1, 'indian': 1, 'botox': 1, 'bollywood': 2, 'climatemalware': 1, 'him': 1, 'tvgmmattroush': 1, 'tvinsider': 1, 'via': 4, 'getty': 5, 'images': 4, 'hampstead': 1, 'nyc': 2, 'la': 3, 'slayed': 2, 'legends': 1, 'icons': 2, 'al': 3, 'pacino': 1, 'baby': 8, 'yoda': 7, 'joe': 6, 'pesci': 6, 'a-list': 9, 'two': 1, 'fifth': 4, 'time': 10, 'existentialenso': 1, 'extras': 3, 'decline': 1, 'track': 1, 'viewer': 1, 'low': 1, 'phelanmtl': 1, 'rocketman': 2, 'little': 2, 'crown': 2, 'barry': 1, 'lgbtq': 2, 'theebillyporter': 1, 'axcidentaltweet': 1, 'maxwelledisonmd': 1, 'gretathunberg': 4, 'lightscamerapod': 3, 'lekheshdholakia': 1, 'haha': 2, 'whiteprivelege': 1, 'transphobia': 1, 'felicity': 13, 'huffman': 13, 'gervais-hosted': 6, 'ps': 1, 'poor': 1, 'vanity': 1, 'fair': 2, 'studios': 1, 'audi': 1, 'lolz': 1, '*that*': 1, 'rw': 1, 'gutfeld': 2, '_sigel': 1, 'ingrahamangle': 1, 'new': 7, 'year': 2, 'snoop': 1, 'dogg': 1, 'u.s.': 2, 'foxnews': 24, '//': 2, 'sanchez': 1, 'germ': 1, 'nice': 3, 'lynnstueber': 1, 'sandy_beach3001': 1, 'wpatriot2': 1, 'joygarn31949049': 1, 'hamwallet6': 1, 'duriavigrobert': 1, 'lauramo92212760': 1, 'katehun49524279': 1, 'toddabshire': 1, 'pureheartlion': 1, 'reddragonfly19': 1, 'iamalloutofgum': 1, 'angela81702575': 1, 'rebashoenfelt1': 1, 'trampinpcola': 1, 'kintu3': 1, 'catywood': 1, 'canadiancovfefe': 1, 'janinepolitic': 1, 'gregoryjhall1': 1, 'greywolfr65york': 1, 'beedeplorable2': 1, 'lynnielee5': 1, 'michaelcraddo16': 1, 'donaldglicker': 1, 'bigdnv': 1, 'misterlav1': 1, 'heavensarmy4': 1, 'benrossergio': 1, 'kevinpaz822': 1, 'donnad1301': 1, 'craigaruch': 1, '..': 1, 'outstanding': 1, 'stoneher_': 1, 'allycatdreams12': 1, 'sometimes': 1, 'shonuffkay37': 1, 'are': 4, 'christrillion': 1, 'ryanafournier': 1, 'secretservice': 1, 'chris': 7, 'pedo': 3, 'all': 6, 'guess': 6, 'perverts': 1, 'maga': 5, 'highlights': 1, 'hollyweard': 1, 'roasted_hollywood_eleats': 1, 'l': 1, 'lorraine': 2, 'ali': 2, 'ed': 2, 'ciucevich': 1, 'savagetechman': 1, 'scottschreiber': 1, 'uk': 12, 'idgaf': 1, \"'elite\": 1, 'rita': 3, 'wilson': 3, 'taylorswift': 3, 'soleimani': 4, 'george': 4, 'clooney': 1, 'thecriticaldri2': 2, 'looking': 2, 'frankhaviland': 1, 'genius': 1, 'lesdoggg': 1, 'across': 1, 'colonel': 1, 'david': 7, 'hunt': 1, 'crime': 1, 'report': 2, 'bro': 2, 'mc': 2, 'gary': 1, 'shandling': 1, 'january': 29, 'goodshow': 1, 'modmuffin': 1, 'jesus': 3, 'christ': 2, 'hahaha': 2, 'bong': 2, 'rickie': 1, 'mayonnaise': 1, 'hfpa': 14, 'applebee': 2, 'lg_zenith': 1, 'louislevau': 1, 'magentamelee': 1, 'drmovienews1': 1, 'official': 2, 'carpet': 9, 'preshow': 1, 'jeannie': 2, 'mai': 2, 'dream': 1, 'bet': 1, 'blast': 1, 'mustwatch': 1, 'monologue': 13, 'tiffanyhaddish': 3, 'see': 4, 'cried': 1, 'runner': 1, 'kayleedmcghee': 1, 'accolades': 1, 'silicon': 1, 'beach': 1, 'web': 1, 'has': 3, 'today': 3, 'mistahrice': 1, 'scribesshade': 1, 'office': 6, 'man-o-man': 1, 'fantastic..': 1, 'good': 5, 'always': 2, 'davethescwede': 1, 'parliament': 1, 'sponsors': 1, 'band': 1, 'americanhero': 1, 'promote': 1, 'whoever': 3, 'hailrickygervais': 1, '\\u2066': 15, 'havocmiranda': 1, 'abby': 1, 'daily': 1, 'theview': 1, 'r*cky': 3, 'g*rvais': 4, 'legend': 1, 'south': 2, 'africa': 1, 'donaldjtrumpjr': 3, 'junior': 1, 'trumps': 2, 'house': 4, 'dinner': 2, 'hollywoodhypocrites': 3, 'trends': 1, 'scathing': 1, 'criticizing': 1, 'celebrities': 1, 'usrc': 1, 'katie': 2, 'tds': 1, 'veroniquesemtex': 3, 'worldhoppervive': 3, 'ladydemosthenes': 3, 'allankirkhart': 2, 'ty_in_tx': 3, 'iourpatio': 3, 'gentlemanrascal': 3, 'beautata_atl': 3, 'djh2036': 3, 'altwoodstone': 3, 'iamisjp': 3, 'intellectshorty': 3, 'el__bohemio': 3, 'karstenkinstler': 3, 'ghostiemingo': 3, 'naiad_a_': 3, 'juliaannaring1': 3, 'gch3290': 3, 'thebanmonk': 3, 'rantyamycurtis': 3, 'navydawg6119': 3, 'philly_hoosier': 3, 'prissi_coffee': 3, 'awgecko': 3, 'earthsalter': 3, 'meerkatyitz': 3, 'margare14571757': 1, 'stephenathome': 1, 'comedy': 9, 'fonda': 1, 'tcot': 1, 'review': 2, 'cameron': 1, 'showbiz': 2, 'top': 2, 'job': 9, 'harris': 1, 'nominee': 7, 'daniel': 2, 'craig': 2, 'redcarpet': 68, 'photographer': 4, 'hollywood*': 1, '*white': 1, 'globes*': 1, 'usernametqken': 1, 'keemstar': 1, 'ggspolls': 1, 'genesiselijah': 1, 'whcd': 1, 'russia': 2, 'telegraph': 2, 'gotcha': 1, 'repost': 2, '・・・': 2, '🔴ricky': 3, 'slays': 3, 'donald': 5, 'alan': 1, 'johnson': 2, 'mississippi': 1, 'griffinrucker': 1, 'jason': 4, 'garrett': 1, 'funniest': 2, 'network': 2, 'liamspam9': 1, 'writespat': 1, 'trumpkennels': 1, 'kassfireborn': 1, 'jazzmcontinues': 1, 'amiraminimd': 1, 'josh': 3, 'gondelman': 1, 'erin': 1, 'ryan': 1, 'l.a.': 1, 'whines': 1, 'tone-deaf': 1, 'roast': 2, 'los': 7, 'angeles': 5, 'ceo': 3, 'macdailynews/macdailynews': 1, 'tylerwilson86': 1, 'claytravis': 3, 'sinatra_says': 1, 'fool': 1, 'burge': 1, 'meanest': 1, 'from': 3, 'judi': 1, 'dench‼⬅️': 1, 'comedian': 2, 'reid': 1, 'nakamura': 1, 'gavinnewsom': 1, 'markdice': 2, 'pregnant': 1, 'michellewilliams': 1, 'dachief_paul': 1, 'call': 3, '🙌🏼🙌🏼🙌🏼🙌🏼🙌🏼🙌🏼🙌🏼🙌🏼🙌🏼': 1, 'kellynash': 1, 'mlbhotstove': 1, 'itechnyxi': 1, 'tbskyen': 1, 'didn': 3, 'gervais‼️': 1, '👏🏼👏🏼👏🏼💯💯💯🤣🤣🤣': 1, 'on_morgan': 1, 'godlessmikey': 1, 'lackingsaint': 1, 'comcast': 2, 'ghosttrumps': 1, 'doug': 1, 'benson': 1, 'globes—reading': 1, 'goldenglobe': 10, 'open': 1, 'honest': 1, 'assessment': 1, 'devoid': 1, 'schizophrenic': 1, 'delusions': 1, 'wanton': 1, 'inaccuracies': 1, 'tears': 2, 'into': 5, 'priceless': 3, 'kag': 3, 'wwg1wga': 3, 'ghostmyers1996': 1, 'morning': 8, 'therogue_elf': 1, 'omg': 10, 'find': 1, 'itma': 1, 'buster': 1, 'crabbe': 1, 'cst': 1, 'richarderoeper\\u2069': 1, 'richie': 1, '👏': 1, 'airpodspro': 1, 'timcook': 5, 'tomapple': 1, 'sweatshops': 2, 'professor': 1, 'bombs': 1, 'tinmann0715': 1, 'watchchad': 1, 'a++++': 2, 'rohll5': 1, 'state': 1, 'union': 1, 'address.👌👍👍': 1, 'wait': 9, 'gervis': 7, 'jmu2012': 1, 'my': 8, 'mstwstd': 1, '_hublette': 1, 'u': 4, 'more': 4, 'epsteindidntkillhimself': 2, 'transphobic': 2, 'tianathefirst': 1, 'mavenofmayhem': 1, 'gma': 1, 'comedians': 1, 'theellenshow': 6, 'who': 6, 'globes😹': 1, 'sarcasm': 1, 'got': 7, 'muppet': 1, 'politicalcorrectness': 1, 'buckle': 1, 'besthost': 1, 'it': 8, 'jr.': 1, 'guy': 2, 'weareneegan': 1, 'ri.cky': 1, 'ge.rvais': 1, 'goldenglobesawards2020': 7, 'carlin': 1, 'nba': 1, 'ti': 1, 'contrapoints': 1, 'j.k.': 1, 'rowling': 3, 'prisonplanet': 4, 'cue': 1, 'seth': 3, 'meyers': 2, 'bring': 3, 'final': 2, 'mp': 1, 'mckenna': 1, 'ppcmmxx': 1, 'co2': 1, 'carbontax': 1, 'extraordinary': 2, 'theirishman': 4, 'hughjackman': 1, 'billycrystal': 1, 'judy': 2, 'dence': 1, 'brad': 18, 'pitt': 14, 'ellen🙏stop': 1, 'newsflash': 1, 'technology': 1, 'michaonspace': 1, 'leepatekar': 1, 'irishmandan1980': 1, 'comedic': 1, 'pedophiles': 1, 'hypocrites': 1, 'junkies': 1, 'drug': 2, 'drunks': 1, 'ahead': 3, 'holbornlolz': 1, 'wild': 3, 'hogs': 2, 'paul': 8, 'tompkins': 1, 'kardashians': 1, 'p.s': 1, 'follow': 5, 'technews': 1, 'thepowersthatbe': 1, 'effect': 1, 'yes': 2, 'furbysquawk': 1, 'sasori_113': 1, 'matthewbouman1': 1, 'jjravenation52': 1, 'dan': 5, 'timrunshismouth': 4, 'wokepeople': 1, 'gervais2020': 1, 'accept': 1, 'ok': 3, 'billisking': 1, 'balls': 2, 'jackposobiec': 1, 'ballpark': 1, 'he': 2, 'guts': 2, 'to': 5, 'say': 2, 'what': 1, 'wethepeople': 1, 'feel': 1, 'think': 1, 'about': 2, 'irish': 1, 'ireland': 1, 'cma': 1, 'profciara': 1, 'why': 3, 'moron': 1, \"'joker\": 1, '*the': 2, 'nice👍golden': 1, 'stanny_stein': 1, 'jimsterling': 1, 'paid': 1, 'sagawards\\u2069': 1, 'someone': 1, 'finally': 5, 'andy': 7, 'kindler': 1, 'drinkwater/nbcuniversal': 1, 'let': 3, 'true': 1, 'thx': 1, 'hollyweird': 9, 'sacha': 7, 'baron': 5, 'cohen': 5, 'hbo': 2, 'laughter': 1, 'exactly': 2, 'goldenglobeawards': 5, '🇺🇸🇺🇸🇺🇸': 1, 'rickygervaisdidntkillhimself': 2, 'maggiemaefish': 1, 'will': 8, 'lindabouldin': 1, 'fix': 1, 'air': 1, 'g-emmys': 1, 'tale': 1, 'unexpected': 1, 'gold': 6, 'keith': 1, 'three': 1, 'charles': 1, 'plasma': 1, 'rifle': 1, 'damn': 7, 'jennifer': 7, 'aniston': 4, 'awards—the': 1, 'picture': 4, 'wootwoot': 1, 'amen': 1, 'exposetheliesandliarsofthe': 1, 'lyingliberalfakenewsmedia': 1, 'mouthpieceofthegeorgesorospaidfor': 1, 'duhstuckonlyingtotheamericanpeoplemacrats': 1, 'zeda2016': 1, 'afyanthony': 2, 'theriseofrod': 3, 'maxine': 1, 'waters': 1, 'thunburg': 1, 'russian': 1, 'trolls': 1, 'had': 1, 'soz': 1, 'kong': 1, 'imagine': 6, 'frankie': 1, 'boyle': 1, 'derek': 2, 'idiot': 1, 'abroad': 1, 'brent': 4, 'town': 2, 'night': 7, 'museum': 3, 'stand': 3, 'in': 4, 'kevinfrazier': 1, 'qanon': 5, 'puregold': 1, 'still': 2, 'lost': 1, 'relevancy': 1, 'like': 2, 'position': 3, 'anything': 3, 'real': 1, 'jr': 1, 'wwg1wgaworldwide': 1, 'whoisq': 1, 'u.s.a': 1, 'phoebe': 7, 'waller-bridge': 7, 'olivia': 4, 'colman': 2, 'wh': 1, 'correspondents': 1, 'glennwhipp': 1, 'facebook': 3, 'stillcrankyaf': 1, '😭': 1, 'carr': 2, 'ahahhaha': 1, 'gervase': 1, 'phinn': 1, 'hired': 2, 'hehehe': 1, 'bold': 1, 'remember': 5, 'dammit': 1, '=': 3, 'b': 1, 'obama': 3, 'chief': 1, 'destructionst': 1, 'hire': 1, 'mike': 2, 'pompeo': 1, 'chrisj_19': 1, 'mannnnn': 1, 'dre': 1, 'scottforflorida': 1, 'czsharon': 1, 'steve': 4, 'martin': 7, 'ragheehorner': 1, 'dunfermline': 1, '+': 6, 'fife': 1, 'christopher': 1, 'hitchens': 1, 'rickys': 1, '📞': 1, '😒': 1, 'don': 8, 'sam': 3, 'mendes': 3, 'goldenglobesawards': 47, '🏆🏆🏆🏆🏆🏆🏆🏆🏆🏆🏆🏆': 46, 'hosted': 46, 'five': 1, 'awesome': 4, 'fallon': 4, 'samberg.': 1, 'fey/amy': 1, 'cnn': 7, 'appsame': 1, 'hello': 1, 'aboutlastnight': 1, 'any': 1, 'tpointuk': 1, 'mmm': 1, 'happiestaku': 1, 'academyawards': 1, 'opening': 4, 'joke': 4, 'joepiscoposhow': 1, 'camila': 2, 'morrone': 2, 'instyle': 2, 'online': 4, 'isn': 2, 'lizzo': 2, 'congratulations': 5, 'nyt': 2, 'jeffery': 1, 'garcia': 1, 'only': 2, 'duchampia': 1, 'agree': 1, 'dene': 1, 'golden_globe': 2, 'ricky_gervais': 3, 'edgy': 2, 'internet': 2, 'stint': 1, 'meaww': 2, 'john': 11, 'ppl': 1, 'comicperch': 1, 'holywood': 2, 'full': 6, 'g.': 2, 'guessing': 1, 'makes': 3, 'fun': 5, 'scorsese': 5, 'marvel': 8, 'comments': 1, 'beyoncé': 2, 'knowles-carter': 1, 'jay-z': 1, 'ca': 22, 'dont': 2, 'triggered': 2, '🤣he': 1, 'globes.he': 1, 'laika': 1, 'joker': 8, 'rts': 1, 'g': 3, 'dailycaller': 1, 'being': 1, 'ghost_simon_': 1, 'tv+': 3, 'lokypets': 1, 'lookytees': 1, 'california': 8, 'fired': 1, 'elton': 5, 'bernie': 1, 'taupin': 1, 'appletv+': 3, 'shows': 1, 'worth': 1, 'watching': 2, 'anymore': 1, 'yuk': 1, 'bbc': 3, 'russell': 3, 'crowe': 3, 'make': 3, 'thats': 1, 'imperialwick': 1, 'know': 1, 'morris': 1, 'appreciate': 1, 'rip': 1, 'anglesey': 1, 'taronegerton': 3, 'angleseyscmedia': 1, 'christmas': 5, 'xd': 1, 'how': 6, 'discover': 1, 'google': 3, 'pm': 4, 'goldenglobesoncc': 1, 'leonardodicaprio': 1, 'jodiecomer': 1, 'bradpitt': 1, 'samhowe14': 1, 'gutted': 1, 'barstoolnewsn': 1, 'safe': 3, 'unpredictable': 2, 'reigns': 2, 'beyonce': 3, 'titaniamcgrath': 1, '🔥🔥🔥': 1, '✔': 1, 'perilofafrica': 4, 'look': 3, 'flaunts': 1, 'her': 3, 'actress': 2, 'as': 1, 'botham': 1, 'iraq': 2, 'merkel': 1, 'macron': 1, 'bullshit': 2, 'special': 2, 'anunal': 1, 'angreles': 1, 'gervals': 1, 'goldren': 1, 'cup': 1, 'ddaycobra': 1, 'oppose': 1, 'jeremy': 2, 'corbyn': 2, 'james': 9, 'cordon': 1, 'letstrekitout': 1, 'globes😂': 1, 'bless': 2, 'inevitable_et': 2, 'susanheathcote': 1, 'eyesonq': 2, 'jeffreyepstein': 2, 'succession': 4, 'dutchcloggs': 1, 'rikki': 1, 'carrie4truth': 1, 'american': 1, 'read': 2, 'jaack': 1, 'so': 6, 'fucking': 1, 'iconic': 1, 'myself': 1, 'bc': 1, 'jupiter3nye': 1, '*i*': 1, 'eat': 1, 'vegan': 1, 'meal': 1, 'freakin': 1, 'grimenick': 1, 'better': 1, 'corden': 8, 'thefirstontv': 2, 'give': 1, 'newssuite': 1, '🍻': 1, 'realyungcripp': 1, 'cripp': 1, 'shared': 1, 'android': 2, 'app': 2, 'luke': 1, 'dormehl/cult': 1, 'mac': 1, 'u.k': 1, 'tvcompuk': 1, 'comp': 1, 'doll_parts_13': 1, 'disgusted': 1, 'but': 4, 'surprised': 1, 'rtr': 1, \"'cats\": 4, 'globes.tim': 1, 'allen': 3, 'nerdrotics': 2, 'gd': 1, 'wokeflakes': 1, 'hasan': 1, 'minhaj': 1, 'hes': 2, 'ohh': 1, 'literally': 2, 'made': 1, 'clips': 1, 'garvis': 1, 'prime': 1, 'photo': 2, 'nazi': 2, 'nag': 1, 'january…': 1, 'jim': 1, 'bowen': 1, \"'sad\": 1, 'bullseye': 1, 'bird': 1, 'box': 2, 'sort': 1, 'weinstein.': 1, '-ricky': 1, 'could': 2, 'neve4': 1, 'annaroisman': 3, 'hqafterdark': 3, 'guys': 1, '*whines*': 1, 'phoebewallerbridge': 1, 'mattwasfunny': 1, 'hyvee7': 1, 'k12lioness': 1, 'juliansrum': 2, 'chiefsworld': 2, 'thatumbrellaguy': 1, 'realclownfishtv': 1, 'boundingcomics': 1, 'pzzadude92': 1, 'hollywoke': 1, 'tommy': 1, 'rot': 1, '-bill': 1, 'montana': 1, '😭..last': 1, 'ecosearch': 1, 'britis': 1, 'nothing': 1, 'person': 1, 'terfs': 1, 'crazy_dog_lady7': 1, 'photogkris': 1, 'zero': 3, 'leftatlondon': 1, 'martinmc1987': 1, 'thespeaker2018': 1, 'people': 1, 'choice': 1, 'v': 1, 'gloden': 1, 'carell': 3, 'avenue': 2, 'amid': 1, 'nickhintonn': 1, 'seriously': 1, 'kfgo': 1, 'hrc': 2, \"y'all\": 1, 'ts': 2, 'respect': 1, 'homophobic': 1, 'shameful': 1, 'britaintoday': 1, 'schanette55': 1, 'whimsicalmetoo': 1, 'jdcooop': 1, 'keecowang5': 1, 'co50072057grey': 1, 'mcginnkeven': 1, 'wahboom': 1, 'stillfreescotty': 1, 'history27361891': 1, 'oxmanmartin': 1, 'icanplainlysee': 1, 'ukraineamerka': 1, 'lawsen_webb': 1, 'codymacck': 1, 'planojoey': 1, 'herbertstehberg': 1, 'roundupbegins': 1, 'big_crusher1000': 1, 'carlheck6': 1, 'gracielovesusa': 1, 'superrela': 1, 'atruther2': 1, 'joekingrogue': 1, 'sgtbenclark': 1, 'molfesew': 1, 'klhirst1': 1, 'johnd49331806': 1, 'wagonknoggin': 1, 'billybob1865': 1, 'ambamerica': 1, 'drummondjeff': 1, 'robotoid_mike': 1, 'tomrjzsr': 1, 'angelamgilbert1': 1, 'yup': 1, 'clarkson': 1, 'ainews': 1, 'tst': 1, 'ai': 1, 'pure': 2, 'sunshine': 1, 'gown': 1, 'afterglow': 1, 'company': 1, 'louis': 2, 'c.k': 1, 'lucifer__filth3': 1, 'globes.\\u200b': 1, '📸': 1, '👉': 2, 'hollywoodforeignpress': 2, 'nope': 2, 'gang': 1, 'sure': 1, 'worst': 3, 'hands': 1, 'down': 1, 'kurt': 1, 'schlosser/geekwire': 1, 'tech': 1, 'europe': 1, 'australianbushfire': 1, 'gets': 2, 'bleeped': 1, 'twice': 2, 'by': 2, 'maya': 1, 'salam': 1, 'movies': 1, 'drags': 1, 'lmaooo': 1, 'worl': 3, 'trash': 1, 'wipe': 1, 'everyone': 1, 'shocking': 1, 'ferrell': 2, 'pierce': 2, 'bronson': 1, 'joaquin': 7, 'gravis': 1, 'wair': 1, 'dani': 1, 'kristin': 3, 'cavallari': 3, 'looooot': 1, 'retired_cop1019': 2, 'crux41507251': 1, 'sun_q_tzu': 1, 'jeffreyepsteindidntkillhimself': 1, 'lincolnkupchak': 1, 'thefienprint': 1, 'lectures': 1, 'strike': 1, 'israel': 1, 'tiff_fitzhenry': 1, 'veritasvital': 1, 'lisamei62': 1, 'catnamus': 1, 'unless': 1, 'frauds': 1, 'may': 3, 'master': 1, 'brendanschaub': 1, 'theo': 1, 'brendan': 1, 'bubola': 1, 'bush': 4, 'extra': 5, 'tiffany': 4, 'gervais=effin': 1, 'color': 1, 'pacb': 1, 'aapl': 1, 'awkwafina': 1, 'miui|': 1, 'markhamm16': 1, 'fbi': 1, 'cnngolden': 1, 'fo…': 1, 'pleaseretweet': 1, 'monique': 2, 'dee_131313': 1, 'ursulams13': 1, 'basically': 1, 'tay': 2, 'between': 1, 'diversity': 1, 'caitlyn': 1, 'jenner': 1, 'transparent': 1, 'danish': 1, 'girl': 2, 'oyveys': 1, 'awards..': 1, 'tarantino': 4, 'rotc': 1, 'kill': 1, 'renee': 1, 'zellwegers': 1, 'theblakeelliott': 1, 'therightmelissa': 2, 'soo': 1, 'many': 1, 'leo': 4, 'goldenglobeawards2020': 1, 'olgunuluc': 1, 'onceuponatimeinhollywood': 2, 'satan': 1, 'joypoos': 1, 'yashar': 2, 'journogeoffz': 2, 'hero': 2, 'aight': 1, 'come': 1, 'dangela2004': 1, 'icymi': 1, 'republican': 1, 'dench': 1, 'loverickygervais': 1, 'rickyrocks': 1, 'ruralntnlst': 1, 'theincelt': 1, 'm101news': 1, 'jon': 1, 'stewart': 1, 'davechappelle': 1, 'kevinhart4real': 3, 'falsenine8': 1, '-this': 1, 'sincerely': 1, 'apathy': 1, 'shite': 1, 'speaktruth': 1, 'biggest': 2, 'rollingstone': 1, 'rabidcow1': 1, 'this': 6, 'latest': 1, 'desus': 1, 'mero': 1, 'donate': 1, 'off': 2, 'gabbbarsingh': 2, 'goldmeetsgolden': 1, 'nicolekidman': 1, 'ramimalek': 1, 'kristiyamaguchi': 1, 'quentin': 3, 'hysterical': 1, 'makeup': 1, 'artist': 1, 'totally': 1, 'ghosted': 1, 'meryl': 1, 'streep': 1, 'jen': 2, 'joaxin': 1, 'lenny': 1, 'bruce': 1, 'thankyouricky': 1, 'walk': 1, 'fame': 1, 'grammys': 3, 'that': 3, 'sewage': 1, '🤣🤣': 1, 'memorium': 2, 'mamlralek': 1, 'samberg': 5, 'btw': 3, 'dloesch': 2, 'barstoolbigcat': 1, 'rovell': 1, 'roshedowilliams': 1, '.he': 1, 'been': 1, 'image': 1, 'nikkiglaser': 1, 'darlenemize': 1, 'danyanofsky': 1, 'globes..': 1, 'charlottehawkns': 1, 'gmb': 1, 'richardaarnold': 1, 'therossking': 1, 'lauratobin1': 1, 'ghostbusters': 2, 'bridesmaids': 1, 'oceans': 1, 'ericboehlert': 1, 'winnie': 1, 'harlow': 1, 'laura': 1, 'dern': 1, 'thr': 2, 'thebamnetwork': 1, 'mattrogerstho': 1, 'jodyethugger': 1, 'leos': 1, 'idiots': 1, 'dougtennapel': 1, 'takes': 1, 'drama': 1, 'ricky…': 2, 'pervert': 1, 'katemckinnon': 1, 'globe❤️❤️❤️❤️': 1, 'gracerandolph': 1, 'universal': 1, 'g🤢🤢vais': 1, 'agdq': 1, 'goose-themed': 1, 'skyward': 1, 'sword': 1, 'nextbestpicture': 1, 'director': 1, 'film': 10, 'trummmper': 1, 'indie': 1, 'also': 1, 'coincidence': 1, 'anyone': 3, 'yahooent': 1, 'garbage': 1, 'nocontexthearn': 1, 'ffs': 1, 'johan': 1, 'renck': 1, 'stellan': 3, 'skarsgard': 4, 'barstoolhubbs': 1, 'boy': 1, 'f': 3, 'whoshotghost': 6, 'fairyshuhuaday': 1, 'dancingonice': 1, 'nochedereyes': 1, 'rudd': 4, 'twitchbanjonnycraig': 4, 'wentz': 8, 'seavsphi': 5, 'carson': 7, 'sole': 1, 'knew': 2, 'very': 1, 'pleease': 1, 'qarmy': 1, 'maga2020': 1, 'feitsbarstool': 1, 'luna': 1, 'gerwig': 1, 'adam': 2, 'driver': 2, 'zoey': 2, 'playlist': 1, 'kryptonlogic': 1, 'etsy': 1, 'ricky❤️❤️❤️': 1, 'five-time': 1, 'mister': 1, 'tier': 1, 'jewdygold': 1, 'space': 1, 'legendary': 2, 'glover': 1, 'pretty': 1, 'mulvaney': 1, 'gervcus': 2, 'entertaining': 1, 'woke': 2, 'simply': 1, 'globes—phoebe': 1, 'uncomfortable': 1, 'mia': 1, 'years': 2, 'live': 23, 'eddie': 5, 'izzard': 1, 'banksy': 1, 'njgov': 1, 'y': 3, 'twenty': 1, 'called': 1, 'servants': 1, 'of': 4, 'when': 1, 'libya': 1, 'uprising': 1, 'magic': 1, 'ww3': 1, 'ask': 1, 'swedish': 1, 'now': 5, '😁golden': 1, 'jali_cat': 1, '\\u2066\\u2066': 1, 'diabeetus_cat': 1, 'oliviacolman': 1, 'donnawr8': 1, 'co': 1, 'griffin': 1, 'laugh': 1, 'your': 1, 'expense': 1, 'afp': 1, 'wapo': 1, 'fcc': 1, 'zuckerberg': 2, 'network.': 1, 'drinkwater': 1, 'cadeauxxxseed': 1, 'power': 2, 'salacious': 1, 'crumb': 1, 'last': 2, 'kendall': 1, 'roy': 1, 'parasite': 3, 'privilege': 1, 'evans': 3, 'manlikemateusz': 2, 'gervaise': 2, 'walkaway': 1, 'getvais': 1, 'natasha': 1, 'lyonne': 1, 'wikipedia': 1, 'h_mc92': 1, 'again-a': 1, 'newyearsdani': 1, 'cousin': 1, 'daveepena': 1, 'amoralamexicana': 1, 'selma': 1, '🙄🙄🙄🙄🙄': 1, 'mofos': 1, 'mhcc_': 1, 'streaming': 7, 'docwashburn': 1, 'ii': 1, 'scorches': 1, 'agentnicolelynn': 1, 'face': 1, 'truth': 1, 'for': 2, 'speaking': 1, 'up': 4, 'hwood': 1, 'lecture': 1, 'didnt': 2, 'alliance': 1, 'game': 1, 'nbcnews': 4, '👏👏👏': 1, '👇👇👇👇👇👇👇👇👇👇': 1, 'levy': 1, 'lauren': 2, 'b.s': 1, 'damascus': 1, 'j.': 1, 'bahaha': 1, 'piece': 1, 'utter': 1, 'brilliance': 1, 'gervaisk': 1, 'nb': 2, '.com': 2, 'stream': 6, 'direct': 2, 'global': 6, 'thr\\u2069': 1, '👏🏼': 2, 'political': 1, '💩': 1, 'pattyarquette\\u2069': 1, 'michael': 4, 'simpsons': 1, 'business': 1, 'cbcmarvinsroom': 1, 'be': 3, \"des'ree\": 1, 'ytv': 1, 'achievement': 1, 'awards🍺🙋\\u200d♀️': 1, 'heytammybruce': 1, 'lopez': 1, 'jlo': 2, 'realtalk': 1, 'martybonomi': 1, 'waynedupreeshow': 1, 'leftist': 1, 'vanessinator': 1, 'vanessa': 1, 'kimble': 1, 'conan': 1, 'barbarian': 1, 'musical': 1, 'guest': 1, 'julius': 1, 'benedict': 1, 'enmnewsnews': 2, 'rickgervais': 1, 'globs': 1, 'stfu': 1, 'twgrp': 1, 'kag2020': 2, 'perseveranceis': 1, 'sympathy': 1, 'sachicanttech': 1, 'karluskap': 1, '👏🏻👏🏻👏🏻👏🏻👏🏻': 1, 'truthisfunnierthanfiction': 2, '😱🤣❤️': 2, '~jb': 2, 'atta': 1, 'gross': 1, 'georgecockroft': 1, 'ma': 1, 'shallow': 1, 'spirit': 3, 'unknown': 4, 'io': 1, 'misterantibully': 1, 'dang': 1, 'most': 1, 'likely': 1, '€': 1, 'glasses': 1, 'kid': 1, 'jojo': 1, 'rabbit': 1, 'carpedonktum': 1, 'roncoleman': 1, 'documentary': 1, 'miss': 1, 'americana': 1, 'bookmark': 1, 'infact': 1, 'communists': 1, 'abusers': 1, 'couch': 1, 'casting': 1, 'sessions': 1, 'traitors': 1, 'tia_riane': 1, 'sharon': 2, 'diet': 1, 'coke': 1, 'winners': 1, 'nominees': 1, 'complete': 1, 'lifetime': 1, 'cheadle': 1, 'dogs': 1, 'michaelrwear': 1, 'twittermoments': 1, 'snobs': 1, 'rickygervaisgoldenglobeshero': 1, 'cynthia': 1, 'erivo': 1, 'egot': 1, 'big': 1, 'brother': 1, 'jazz': 1, 'lmfaooo': 1, 'loumerloni': 1, 'acyn': 1, 'tami': 1, 'cp24': 4, 'ellendegeneres': 1, 'jenniferaniston': 1, 'calif': 1, 'lgbt': 1, 'beverlyhills': 1, 'ramyyoussef': 1, 'austinian': 1, 'snl': 3, 'shem_infinite': 1, 'momoa': 2, '\\u2066good': 1, 't': 1, 'kevinhart': 1, 'oscars2020_': 1, 'ilovecanada13': 1, 'morganeogerbc': 1, 'msblairewhite': 1, 'jessica': 1, 'benaskren': 1, 'di': 1, 'hoarsewisperer': 1, 'thunberg.': 1, '💥': 2, 'gervais..': 1, '😂👍': 1, '🔅🔅': 1, 'seanfennessey': 1, 'must': 6, 'shawnmatianesq': 1, 'sikorskyflights': 1, 'ravage': 1, 'clip': 1, 'nordronnoc': 1, 'redwinggrips': 1, 'bankechris': 1, 'birds': 1, 'prey': 1, 'ewan': 1, 'mcgregor': 1, 'margot': 4, 'robbie': 4, '.fuck': 1, 'almost..': 1, 'stevecarell': 2, 'much': 2, 'flanimals': 1, 'tts': 1, 'smith': 2, 'charity': 1, 'hmm..can': 1, 'truly': 1, 'lgbtq+': 2, 'half': 1, 'pc': 1, 'mighty': 1, 'r.g.': 1, 'patriciataxxon': 2, 'dolittle': 1, 'rage': 1, 'bachmann': 1, 'gretathunberg\\u2069': 1, 'michelleobama\\u2069': 1, 'hollywoodliberals': 2, 'comedygold': 1, 'normal': 1, 'stars': 6, 'elementary': 1, 'school': 1, 'coachella': 1, 'beychella': 1, 'koalas': 1, 'kangaroos': 1, 'shit': 1, 'smoke': 1, 'apple_': 1, 'peace': 1, 'hollywood.😘': 1, 'savage': 1, 'whyyyyy': 1, 'joseph': 1, 'goebbels': 1, 'its': 1, 'cher': 2, 'trump2020': 2, 'omgosh': 1, 'keepamericagreat': 1, 'dewsnewz': 1, 'lword': 1, 'ooh': 1, 'barack': 1, 'almost': 1, '🙌🏻': 2, 'anniston': 1, '😅': 1, '👏👏👏👏👏👏👏': 1, 'garden': 1, 'portland': 1, 'oregon': 1, 'qwhite': 1, 'hollywood…': 1, 'watson': 1, 'netlfix': 1, 'hulu': 2, 'globes.': 1, 'connorjrogers': 1, 'lahmers': 3, 'brave': 2, 'kirk': 1, 'cousins': 1, 'day': 3, 'mulaney': 3, 'et': 5, 'ambassadors': 2, 'all-night': 1, 'hoarse': 1, 'brosnan': 4, 'writer': 1, 'vaughn': 1, 'ramy': 1, 'rachel': 1, 'brosnahan': 1, '🤣🤣🤣🤣🤣': 1, 'other': 1, 'annelisejoy': 1, 'david_cormack': 1, 'lots': 1, 'scorsese/marvel': 1, 'super': 3, 'ngl': 1, 'washington': 6, 'post': 6, 'ima': 1, 'godhelpusall': 1, 'lorenzo': 1, 'soria': 1, 'clay': 1, 'realskipbayless': 1, 'shannonsharpe': 1, 'whitlockjason': 1, 'genovia': 1, 'katya': 1, 'trixie': 2, 'thejordanrachel': 1, 'reese': 2, 'witherspoon': 2, \"'irishman\": 1, 'bb-8': 1, 'r2-d2': 1, 'schaffrillas': 1, '☠️': 1, '😳🤣did': 1, '🤣': 1, 'realchriscal': 1, 'kaitlyn': 1, 'dever': 1, 'keep': 1, 'kristyswansonxo': 1, 'here': 4, 'ew': 2, 'haven': 1, 'hopefully': 3, 'seahawks': 2, 'theweekusa': 1, 'todayusa': 1, 'asavagenation': 1, 'verge': 1, 'scortched-earth': 1, 'week': 2, 'droppingtruthbombs': 1, 'sack': 2, 'lunch': 2, 'bunch': 2, 'music': 4, 'meet': 1, 'allah': 1, 'first': 3, 'murphy': 3, 'saturday': 1, 'child': 1, '🤷🏼\\u200d♀️🙌': 1, 'babyyoda': 1, 'tucker': 1, 'carlson': 1, 'freddie': 1, 'mercury': 1, 'laverne': 1, 'cox': 1, 'faithful': 1, 'steward': 1, 'reality': 1, 'alison': 1, '😂😂😂': 1, 'guardian': 2, 'dawg': 1, 'im': 4, 'livetweet': 1, 'challenge': 1, 'terf': 1, 'advanced': 1, 'someday': 1, 'roasting': 1, 'epsteindidnotkillhimself': 1, 'da': 2, 'yoga': 1, 'mangalorian': 1, 'borat': 1, 'a-rod': 1, 'skeet': 1, 'ulrich': 1, 'aquafina': 1, 'general': 1, 'soledad': 1, 'solemiangi': 1, 'omfg': 1, 'yo': 1, 'money_moose': 1, 'said': 1, 'uwantsomathis': 1, 'rnz': 1, 'killing': 1, 'monologues': 1, 'richy': 1, 'tvs': 1, 'arlward': 1, 'whose': 2, 'really': 2, 'seacrest': 1, 'giuliano': 1, 'rancic': 1, 'moment': 1, 'forgot': 1, 'ruthless': 1, 'indyamoore': 6, 'porter': 3, 'link🔴►https': 2, 'tea': 1, 'elizabeth': 1, 'warren': 1, 'bowie': 1, 'beth': 1, 'og': 1, 'cancel': 2, 'culture': 1, 'benoit': 1, 'blanc': 1, 'dvr': 1, 'bay': 1, 'area': 1, 'join': 3, 'channel': 9, 'benice': 1, 'kindness': 1, 'humanism': 1, 'humanist': 1, 'atheism': 1, 'fml': 1, 'man..': 1, 'wish': 1, 'wptv': 1, 'chloe': 1, 'brenna': 1, 'excited': 2, 'risky': 1, 'marvelous': 1, 'mrs.': 1, 'babyyyyy': 1, 'bassedinshow': 1, 'uncut': 2, 'gems': 2, 'san': 1, 'francisco': 1, 'atlantics': 1, 'florence': 1, 'pugh': 1, '*and*': 1, 'qoop': 1, 'play': 1, 'beta': 1, 'nina': 2, 'parker': 2, 'probably': 1, 'ck': 1, 'boos': 1, 'tweet': 3, 'dylan': 1, 'keely': 1, 'shaye': 1, 'paris': 1, 'fieri': 1, 'burbank': 1, 'ana': 1, 'armas': 1, 'griddlebone': 1, 'heaviside': 1, 'layer': 1, 'actor': 3, 'deutch': 1, 'goreski': 2, 'e': 1, 'jmunozactor': 1, 'ashamed': 1, 'nfjcjsjsjs': 1, 'breaking': 1, 'hollywood-': 1, 'pentagon': 1, 'king': 3, 'sofiacarson': 4, 'nene': 1, 'leakes': 1, 'joseline': 1, 'hernandez': 1, 'gervais.https': 1, 'parasitemovie': 1, 'bonghive': 1, 'jonathanbennett': 1, 'phivssea': 1, 'gerv*is': 1, 'michaels': 1, 'cris': 1, 'collinsworth': 1, 'nflwildcard': 1, 'nfl': 3, 'derek.': 1, 'supernature': 1, 'chicago': 1, 'row': 1, 'aaa': 1, 'saoirse': 1, 'beanie': 1, 'portrait': 1, 'tipps': 1, 'supporting': 1, 'kathy': 1, 'bates': 1, 'original': 13, 'song': 13, 'toy': 1, 'story': 1, 'language': 1, 'gibbselleck': 1, 'hetellseveryoneheisnotgood': 1, 'believehim': 1, 'zendaya': 1, 'euphoria': 2, 'mcfarland': 1, 'carpet**': 1, 'titanic': 1, 'kind': 1, 'gnight': 1, 'benji': 1, 'mer': 1, 'taylor💕': 1, 'models': 1, 'whoa': 1, 'unfunny': 1, 'anyway': 1, 'because': 1, 'cecil': 8, 'b.': 9, 'demille': 8, 'lala': 1, 'milan': 1, 'fashion': 2, 'holly': 1, 'thriller': 1, 'ryanseacrest': 1, 'giulianarancic': 1, 'lorene': 1, 'scafaria': 1, 'grobes': 1, 'groban': 1, 'usa_network': 2, 'talkfilmsoc': 1, 'dw': 1, 'britishvogue': 2, 'hamburger': 1, 'mary': 1, 'luck': 1, 'fitzrovia': 1, 'goodge': 1, 'street': 1, 'metoo': 4, 'viggo': 1, 'mortensen': 1, 'coach': 1, 'afterglowlovers': 1, 'eastern': 1, 'p.m.': 4, 'e.t./5': 2, 'p.t': 2, 'alwaysonthelash': 1, 'cruise': 1, 'jodie': 1, 'foster': 1, 'justin': 1, 'bieber': 4, 'ben': 1, 'affleck': 1, 'prerequisite': 1, 'nbcbayarea': 3, 'indiewire': 2, 'list': 1, 'updating': 1, 'nbcconnecticut': 1, '===': 1, 'nbcct': 1, 'correct': 1, 'goldendiscawards': 1, 'goldendiscawards2020': 1, 'chat': 1, 'jacob_denobel': 1, 'vk_hm': 1, 'depp': 1, 'jolie': 1, 'hd': 1, 'vitogesualdi': 1, 'india': 2, \"n't\": 2, 'witcher': 2, 'emma': 1, 'thompson': 1, 'jingle': 1, 'them': 1, '/everything/': 1, 'a24lex_': 1, 'scarlettbeagle': 1, 'gini157': 1, 'celluloiddame': 1, 'liverpool': 1, 'merseyside': 1, 'overtime': 1, 'vikings/saints': 1, 'eagles/seahawks': 1, 'picard': 1, '📣': 1, '🔘': 3, 'climatechange': 1, 'presenters': 2, '😍🌎❤️💃🏻': 1, 'pick': 1, 'torn': 1, 'r**ky': 1, 'g**vais': 1, 'eredcarpet': 1, 'tune': 3, 'ball': 2, 'm': 1, 'thetodayshow': 1, 'v8': 1, 'coast': 1, 'the202077thannualgoldenglobeawards': 1, 'plz': 1, 'thecrown': 2, \"o'connor\": 1, 'animalsasia': 1, 'ost': 1, 'redcrossau': 1, 'nswrfs': 1, 'hearts': 1, 'mcdonald': 1, 'women': 1, 'lmfaooooo': 1, 'nomercy': 2, 'count': 1, 'alright': 1, 'cheeky': 1, 'kencollects': 1, 'rickygervais…': 1, 'indiawilloughby': 1, 'hatsune': 1, 'miku': 1, 'comedienne/tv': 1, 'sundaymotivation': 1, 'sjsharks': 1, 'caps': 1, 'later': 1, 'chi': 1, 'letsgoducks': 1, 'nsh': 1, 'lakeshow': 1, 'det': 1, 'superstarollie': 1, 'goodandbeautifulgirl': 1, 'ues': 1, 'scottieknollin': 1, 'playoffs': 1, '🤓': 1, 'ugh': 1, 'thesunshowbiz': 1, 'wet-wipes': 1, 'yougov': 1, 'ratings': 1, 'lady': 1, 'gaga': 1, 'bowl': 1, 'nobody': 1, 'likes': 1, 'bum': 1, 'germais': 1, 'est': 1, 'pt': 8, 'rn': 1, 'tomorrow': 3, 'wins': 1, 'ily': 1, 'all❤️': 1, 'ta': 1, 'slip': 1, 'hmm': 1, 'jenelleriley': 1, 'unicef': 1, '💙': 1, 'rhoa': 2, 'married2med': 1, 'married': 1, 'medicine': 1, 'rami': 1, 'malek': 1, 'lucy': 1, 'boynton': 1, 'jasmine': 1, 'eagles': 2, 'healey': 1, 'bj8': 1, 'seinfeld': 1, 'ahhhhh': 1, 'rollout': 5, 'friday': 7, 'laughs': 2, 'gasps': 2, 'cringes': 2, \"ghosts'\": 1, 'roll': 2, 'raise': 1, 'dvring': 1, 'lemon': 1, 'cbcnews\\u2069': 1, 'dougie': 1, 'jones': 1, 'npr': 1, 'united': 1, 'civility': 1, 'bothsides': 1, 'todd': 1, 'antony/nbc/nbcu': 1, 'bank': 1, 'ghosts😭in': 1, 'sound': 1, 'sweeter': 1, 'than': 1, 'fiction': 1, 'wthr': 1, '💗': 1, 'beautifulghosts': 1, 'taylorswiftatthegoldenglobes': 1, 'pedro': 1, 'almodóvar': 1, 'foreign-language': 1, 'symposium': 1, 'egyptian': 1, 'theatre': 1, 'cinematheque': 1, 'assoc': 1, 'motion': 2, 'frozen': 1, 'lion': 1, 'harriet': 1, 'transweather': 1, 'summer': 1, 'n': 1, 'dom': 2, 'showtime': 1, 'february': 1, 'kat': 1, 'l.': 1, 'garylineker': 1, 'cbcent': 1, '🤣🤣🤣': 1, 'myalgice': 1, 'zulekha': 1, 'nathoo': 1, 'winnipeg': 1, 'landscaping': 1, 'ks…': 1, 'somewhere': 1, 'ashton': 1, 'kutcher': 1, 'globes..best': 1, 'favorite': 1, 'looks': 1, 'ultimate': 1, 'flashback': 1, 'calif.': 1, 'et/5': 5, 'usatod…': 1, 'neither': 1, 'english': 1, 'aryakicksbutt': 1, 'theswprincess': 1, 'cruellaisdevine': 1, 'danascottlo': 1, 'accountistlisa': 1, 'taoofpooh': 1, 'theglobes': 1, 'vogue': 2, 'magazine': 2, '*paws*': 1, '😆🐈🐾': 1, '✨': 1, 'lawl': 1, 'mrsnickyclark': 1, 'rippersghost': 1, 'vaulteddarkness': 1, 'canyondentalcen': 1, 'almaharel': 1, 'r/icky': 1, 'g/ervais': 1, 'pass': 1, 'woo': 1, 'pre-show': 1, 'et/3pm': 1, '*only*': 1, '🙋🏻\\u200d♀️': 1, 'jaws': 1, 'ghosts-': 1, 'et/7pm': 1, 'ct': 1, 'nysg': 1, 'simulcast': 1, 'comedycentralin': 1, 'vh1india': 1, 'colorsinfinitytv': 1, 'happy': 1, 'raptor': 1, 'leaf': 1, 'medal': 1, 'rainphoenix': 1, 'joaquinphoenix': 1, 'rooneymara': 1, 'party': 2, 'w': 1, 'kit': 2, 'harrington': 1, 'halcyonember': 1, 'charlize': 1, 'theron': 1, 'harington': 1, 'expect': 6, 'tvshows': 1, 'co-host': 1, 'twink/frutbat': 1, 'accesspittsburgh': 2, '*': 1, 'yawn': 1, 'terry': 1, 'gilliam': 1, 'issarae': 2, 'nytimespr': 1, 'tomjolly': 1, 'human_capital': 1, 'rosehorowitz31': 1, 'joandetz': 1, 'spinitsocial': 1, 'bombayshirtsusa': 1, 'resumecrusade': 1, 'arleneschulman': 1, 'dianarohini': 1, 'marketingmonika': 1, 'tlnt_com': 1, 'sree': 1, 'nytreadalong': 1, 'countdown': 1, 'et/1:00': 1, 'et/8:00': 1, 'dakota': 1, 'fanning': 1, 'push': 1, 'no.1': 1, 'golden_globe_awards': 1, 'pose': 1, 'begbie': 1, 'vienna': 1, 'smilingnoelh': 1, 'jarvisdupont': 1, 'spectatorusa': 1, 'joellegarguilo': 1, 'robinson': 1, 'connor': 1, 'o': 1, 'malley': 1, 'gadsaad': 2, 'markruffalo': 2, 'globea': 1, '→': 1, 'gad': 1, 'saad': 1, 'blighty': 1, '😍😍😍': 1, 'ent': 3, 'nominated': 1, 'alas': 1, 'independent': 1, 'cinema': 1, 'worldcinema': 1, 'ibrahimxxx69': 1, 'indya': 1, 'moore': 1, 'invention': 1, 'lying': 1, 'wildcard': 1, 'weekend': 1, 'buffalo': 1, 'houston': 1, 'england': 1, 'tennessee': 1, 'orleans': 1, 'minnesota': 1, 'philadelphia': 1, 'seattle': 1, 'head': 1, 'congrats': 1, 'osbourne': 1, 'piers': 1, 'morgan': 1, 'gold…': 1, 'nataleeflores5': 1, 'bollycinderalla': 1, 'fr': 1, 'wayne': 1, 'diamond': 1, 'beachytwy\\u2069': 1, 'wide': 1, 'campus': 1, 'instagram': 1, 'angelesc': 1, 'paris.brosnan': 1, 'dylan_brosnan': 1, 'visit': 1, 'usatoday': 2, 'meh': 1, 'texas': 1, 'thejanemcgarry': 1, 'mssarahpaulson': 1, 'mais': 1, 'mattsideashop': 1, 'news-': 1, 'swanky': 1, 'marriagestory': 2, 'directvnow': 1, 'theresakentner': 1, 'breakfast': 3, 'lagogianes': 1, 'lagionises': 1, 'pooja': 1, 'handa': 1, 'eddiemurphy': 1, 'harry': 1, 'potter': 1, 'jk': 1}\n"
     ]
    }
   ],
   "source": [
    "print(names_dictionary)"
   ]
  },
  {
   "cell_type": "code",
   "execution_count": 34,
   "metadata": {},
   "outputs": [],
   "source": [
    "threshold = max(names_dictionary.values()) / 2\n",
    "d = dict((k, v) for k, v in names_dictionary.items() if v > threshold)"
   ]
  },
  {
   "cell_type": "code",
   "execution_count": 35,
   "metadata": {},
   "outputs": [
    {
     "data": {
      "text/plain": [
       "{'golden': 3315, 'globes': 2298, 'ricky': 2270, 'gervais': 2356}"
      ]
     },
     "execution_count": 35,
     "metadata": {},
     "output_type": "execute_result"
    }
   ],
   "source": [
    "d"
   ]
  },
  {
   "cell_type": "code",
   "execution_count": 36,
   "metadata": {},
   "outputs": [
    {
     "name": "stdout",
     "output_type": "stream",
     "text": [
      "['golden', 'globes', 'ricky', 'gervais']\n"
     ]
    }
   ],
   "source": [
    "hosts = list(d.keys())\n",
    "print(hosts)"
   ]
  },
  {
   "cell_type": "code",
   "execution_count": null,
   "metadata": {},
   "outputs": [],
   "source": []
  },
  {
   "cell_type": "code",
   "execution_count": null,
   "metadata": {},
   "outputs": [],
   "source": []
  }
 ],
 "metadata": {
  "kernelspec": {
   "display_name": "Python 3",
   "language": "python",
   "name": "python3"
  },
  "language_info": {
   "codemirror_mode": {
    "name": "ipython",
    "version": 3
   },
   "file_extension": ".py",
   "mimetype": "text/x-python",
   "name": "python",
   "nbconvert_exporter": "python",
   "pygments_lexer": "ipython3",
   "version": "3.7.4"
  }
 },
 "nbformat": 4,
 "nbformat_minor": 2
}
