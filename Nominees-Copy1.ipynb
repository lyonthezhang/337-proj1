{
 "cells": [
  {
   "cell_type": "code",
   "execution_count": null,
   "metadata": {},
   "outputs": [],
   "source": [
    "import json\n",
    "import re\n",
    "import string\n",
    "import spacy\n",
    "from spacy.matcher import Matcher\n",
    "\n",
    "import nltk\n",
    "from nltk.tokenize import word_tokenize\n",
    "from nltk.tag import pos_tag\n",
    "from nltk.corpus import stopwords\n",
    "\n",
    "# Run the 1st time\n",
    "nltk.download('punkt')\n",
    "nltk.download('averaged_perceptron_tagger')\n",
    "nltk.download('stopwords')"
   ]
  },
  {
   "cell_type": "code",
   "execution_count": null,
   "metadata": {},
   "outputs": [],
   "source": [
    "year = 2015\n",
    "nominees = run_nominees(year)"
   ]
  },
  {
   "cell_type": "code",
   "execution_count": null,
   "metadata": {},
   "outputs": [],
   "source": [
    "for key in nominees:\n",
    "    if 'act' in key:\n",
    "        print(key,':', nominees[key])"
   ]
  },
  {
   "cell_type": "code",
   "execution_count": null,
   "metadata": {},
   "outputs": [],
   "source": []
  },
  {
   "cell_type": "code",
   "execution_count": null,
   "metadata": {},
   "outputs": [],
   "source": []
  },
  {
   "cell_type": "code",
   "execution_count": null,
   "metadata": {},
   "outputs": [],
   "source": []
  },
  {
   "cell_type": "code",
   "execution_count": null,
   "metadata": {},
   "outputs": [],
   "source": [
    "category = 'best performance by an actor in a supporting role in a series, mini-series or motion picture made for television'\n",
    "tweets = get_tweet_data(year)"
   ]
  },
  {
   "cell_type": "code",
   "execution_count": null,
   "metadata": {},
   "outputs": [],
   "source": [
    "# filter for tweets which contain the category name regex\n",
    "category_tweets = tweets_contain(category, tweets)\n",
    "\n",
    "# create a dictionary of pronoun tokens\n",
    "if 'actor' in category or 'actress' in category:\n",
    "    pronouns_dictionary = get_person_names(list_of_tweets=category_tweets)\n",
    "else:\n",
    "    pronouns_dictionary = get_NNP(category_tweets)\n",
    "\n",
    "# remove tokens contained in the category name\n",
    "filtered_category_tweets = remove_category_tokens(category, pronouns_dictionary)\n",
    "\n",
    "# get pronouns with >some_percentile frequency \n",
    "category_nominees = get_top_percent(filtered_category_tweets, percentile=0.8)"
   ]
  },
  {
   "cell_type": "code",
   "execution_count": null,
   "metadata": {},
   "outputs": [],
   "source": [
    "print(pronouns_dictionary)\n",
    "print(category_nominees)"
   ]
  },
  {
   "cell_type": "code",
   "execution_count": null,
   "metadata": {},
   "outputs": [],
   "source": [
    "print(len(category_tweets))\n",
    "category_tweets[0:10]"
   ]
  },
  {
   "cell_type": "code",
   "execution_count": null,
   "metadata": {},
   "outputs": [],
   "source": []
  },
  {
   "cell_type": "code",
   "execution_count": null,
   "metadata": {},
   "outputs": [],
   "source": [
    "OFFICIAL_AWARDS_1315 = ['cecil b. demille award', 'best motion picture - drama', 'best performance by an actress in a motion picture - drama', 'best performance by an actor in a motion picture - drama', 'best motion picture - comedy or musical', 'best performance by an actress in a motion picture - comedy or musical', 'best performance by an actor in a motion picture - comedy or musical', 'best animated feature film', 'best foreign language film', 'best performance by an actress in a supporting role in a motion picture', 'best performance by an actor in a supporting role in a motion picture', 'best director - motion picture', 'best screenplay - motion picture', 'best original score - motion picture', 'best original song - motion picture', 'best television series - drama', 'best performance by an actress in a television series - drama', 'best performance by an actor in a television series - drama', 'best television series - comedy or musical', 'best performance by an actress in a television series - comedy or musical', 'best performance by an actor in a television series - comedy or musical', 'best mini-series or motion picture made for television', 'best performance by an actress in a mini-series or motion picture made for television', 'best performance by an actor in a mini-series or motion picture made for television', 'best performance by an actress in a supporting role in a series, mini-series or motion picture made for television', 'best performance by an actor in a supporting role in a series, mini-series or motion picture made for television']\n",
    "# OFFICIAL_AWARDS_1315 = ['best performance by an actress in a television series - comedy or musical']\n",
    "\n",
    "d = {}\n",
    "for category in OFFICIAL_AWARDS_1315:\n",
    "    category_tweets = tweets_contain(category, tweets)\n",
    "    d[category] = len(category_tweets)\n",
    "\n",
    "for key in d:\n",
    "    print(key,':', d[key])"
   ]
  },
  {
   "cell_type": "code",
   "execution_count": null,
   "metadata": {},
   "outputs": [],
   "source": [
    "category_tweets"
   ]
  },
  {
   "cell_type": "code",
   "execution_count": null,
   "metadata": {},
   "outputs": [],
   "source": []
  },
  {
   "cell_type": "code",
   "execution_count": null,
   "metadata": {},
   "outputs": [],
   "source": []
  },
  {
   "cell_type": "code",
   "execution_count": null,
   "metadata": {},
   "outputs": [],
   "source": []
  },
  {
   "cell_type": "code",
   "execution_count": null,
   "metadata": {},
   "outputs": [],
   "source": []
  },
  {
   "cell_type": "code",
   "execution_count": null,
   "metadata": {},
   "outputs": [],
   "source": [
    "old_list = tweets\n",
    "# for word in ['actor', 'supporting', 'series', 'motion picture']:\n",
    "for word in ['ed', 'harris']:\n",
    "    new_list = []\n",
    "    for tweet in old_list:\n",
    "        if word in tweet.lower():\n",
    "            new_list.append(tweet)\n",
    "    old_list = new_list\n",
    "    \n",
    "for x in old_list:\n",
    "    print(x)\n",
    "print(len(old_list))"
   ]
  },
  {
   "cell_type": "code",
   "execution_count": null,
   "metadata": {},
   "outputs": [],
   "source": []
  },
  {
   "cell_type": "code",
   "execution_count": null,
   "metadata": {},
   "outputs": [],
   "source": []
  },
  {
   "cell_type": "code",
   "execution_count": null,
   "metadata": {},
   "outputs": [],
   "source": []
  },
  {
   "cell_type": "code",
   "execution_count": null,
   "metadata": {},
   "outputs": [],
   "source": [
    "def get_tweet_data(year):\n",
    "    # load tweet data\n",
    "    file_string = 'gg' + str(year) + '.json'\n",
    "    tweets = {}\n",
    "    with open(file_string, 'r') as f:\n",
    "        tweets = json.load(f)\n",
    "    \n",
    "    # extract 'text' field from tweets\n",
    "    tweets = [tweet['text'] for tweet in tweets]\n",
    "    \n",
    "    # remove @,# tokens\n",
    "    tweets = [remove_symbols(tweet) for tweet in tweets]\n",
    "    \n",
    "    return tweets\n",
    "\n",
    "def remove_symbols(a_tweet):\n",
    "    entity_prefixes = ['@','#','(',')']\n",
    "    words = []\n",
    "    for word in a_tweet.split():\n",
    "        word = word.strip()\n",
    "        if word and word.lower() != 'rt':\n",
    "            if word[0].lower() not in entity_prefixes:\n",
    "                words.append(word)\n",
    "    return ' '.join(words)\n",
    "\n",
    "def tweets_contain(category_name, tweets):\n",
    "    stop_words = set(stopwords.words('english'))\n",
    "    stop_words.add('-')\n",
    "    stop_words.add('performance')\n",
    "    stop_words.add('comedy')\n",
    "    stop_words.add('television')\n",
    "\n",
    "    tokens = nltk.word_tokenize(category_name)\n",
    "    no_stop_words = [w for w in tokens if not w in stop_words] \n",
    "    \n",
    "    regex = r''\n",
    "    for token in no_stop_words:\n",
    "        regex += token\n",
    "        regex += '.*?'\n",
    "        \n",
    "#     regex = category_name\n",
    "    r = re.compile(regex, re.IGNORECASE)\n",
    "    filtered_list = list(filter(r.search, tweets))\n",
    "    return filtered_list\n",
    "\n",
    "def get_NNP(tweets_list):\n",
    "    NNP_dict = {}\n",
    "    for tweet in tweets_list:\n",
    "        tokens = nltk.word_tokenize(tweet)\n",
    "        tags = nltk.pos_tag(tokens)\n",
    "        for word in tags:\n",
    "            if word[1] in ['NNP']:\n",
    "                name = word[0].lower()\n",
    "                if name in NNP_dict:\n",
    "                    NNP_dict[name] += 1\n",
    "                else:\n",
    "                    NNP_dict[name] = 1\n",
    "    return NNP_dict\n",
    "\n",
    "def get_top_percent(dictionary, percentile):\n",
    "    if dictionary == {}:\n",
    "        return []\n",
    "    max_val = max(dictionary.values())\n",
    "    threshold = max_val * percentile\n",
    "    result = []\n",
    "    for key in dictionary:\n",
    "        if dictionary[key] > threshold:\n",
    "            result.append(key)\n",
    "    return result\n",
    "\n",
    "def remove_category_tokens(category, pronouns_dict):\n",
    "    tokens = nltk.word_tokenize(category) + ['rt']\n",
    "    tokens += ['motion picture', 'golden', 'globes', 'television series', 'tv series', 'mini-']\n",
    "    for token in tokens:\n",
    "        if token in pronouns_dict:\n",
    "            pronouns_dict[token] = 0\n",
    "    return pronouns_dict\n",
    "\n",
    "def get_category_nominees(category, tweets):\n",
    "    # filter for tweets which contain the category name regex\n",
    "    category_tweets = tweets_contain(category, tweets)\n",
    "\n",
    "    # create a dictionary of person names/film titles\n",
    "    if 'actor' in category or 'actress' in category:\n",
    "        pronouns_dictionary = get_person_names(list_of_tweets=category_tweets)\n",
    "    else:\n",
    "        pronouns_dictionary = get_NNP(category_tweets)\n",
    "\n",
    "    # remove tokens contained in the category name\n",
    "    filtered_category_tweets = remove_category_tokens(category, pronouns_dictionary)\n",
    "\n",
    "    # get pronouns with >some_percentile frequency \n",
    "    category_nominees = get_top_percent(filtered_category_tweets, percentile=0.9)\n",
    "    \n",
    "    return category_nominees\n",
    "\n",
    "def run_nominees(year):\n",
    "    tweets = get_tweet_data(year)\n",
    "    \n",
    "    seperator = ' '\n",
    "    nominees = {}\n",
    "    OFFICIAL_AWARDS_1315 = ['cecil b. demille award', 'best motion picture - drama', 'best performance by an actress in a motion picture - drama', 'best performance by an actor in a motion picture - drama', 'best motion picture - comedy or musical', 'best performance by an actress in a motion picture - comedy or musical', 'best performance by an actor in a motion picture - comedy or musical', 'best animated feature film', 'best foreign language film', 'best performance by an actress in a supporting role in a motion picture', 'best performance by an actor in a supporting role in a motion picture', 'best director - motion picture', 'best screenplay - motion picture', 'best original score - motion picture', 'best original song - motion picture', 'best television series - drama', 'best performance by an actress in a television series - drama', 'best performance by an actor in a television series - drama', 'best television series - comedy or musical', 'best performance by an actress in a television series - comedy or musical', 'best performance by an actor in a television series - comedy or musical', 'best mini-series or motion picture made for television', 'best performance by an actress in a mini-series or motion picture made for television', 'best performance by an actor in a mini-series or motion picture made for television', 'best performance by an actress in a supporting role in a series, mini-series or motion picture made for television', 'best performance by an actor in a supporting role in a series, mini-series or motion picture made for television']\n",
    "    OFFICIAL_AWARDS_1819 = ['best motion picture - drama', 'best motion picture - musical or comedy', 'best performance by an actress in a motion picture - drama', 'best performance by an actor in a motion picture - drama', 'best performance by an actress in a motion picture - musical or comedy', 'best performance by an actor in a motion picture - musical or comedy', 'best performance by an actress in a supporting role in any motion picture', 'best performance by an actor in a supporting role in any motion picture', 'best director - motion picture', 'best screenplay - motion picture', 'best motion picture - animated', 'best motion picture - foreign language', 'best original score - motion picture', 'best original song - motion picture', 'best television series - drama', 'best television series - musical or comedy', 'best television limited series or motion picture made for television', 'best performance by an actress in a limited series or a motion picture made for television', 'best performance by an actor in a limited series or a motion picture made for television', 'best performance by an actress in a television series - drama', 'best performance by an actor in a television series - drama', 'best performance by an actress in a television series - musical or comedy', 'best performance by an actor in a television series - musical or comedy', 'best performance by an actress in a supporting role in a series, limited series or motion picture made for television', 'best performance by an actor in a supporting role in a series, limited series or motion picture made for television', 'cecil b. demille award']\n",
    "\n",
    "    if year in [2013, 2015]:\n",
    "        categories = OFFICIAL_AWARDS_1315\n",
    "    else:\n",
    "        categories = OFFICIAL_AWARDS_1819\n",
    "    \n",
    "    for category_name in categories:\n",
    "#         print('.')\n",
    "        category_nominees_list = get_category_nominees(category_name, tweets)\n",
    "        category_nominees_string = seperator.join(category_nominees_list)\n",
    "        nominees[category_name] = category_nominees_string\n",
    "        print(category_name, ':', category_nominees_string)\n",
    "    return nominees\n",
    "\n",
    "\n",
    "\n",
    "\n",
    "def get_film_titles(list_of_tweets):\n",
    "    '''\n",
    "    Input: a list of strings\n",
    "    Returns: a dictionary where keys = film titles, values = number of times references in the list of tweets\n",
    "    *Compares tweet content to IMDB database of movie/TV titles \n",
    "    '''\n",
    "    titles_dictionary = {}\n",
    "    for tweet in list_of_tweets:\n",
    "        title = extract_title(tweet).lower()\n",
    "        if title:\n",
    "            if title in titles_dictionary:\n",
    "                titles_dictionary[name] += 1\n",
    "            else:\n",
    "                titles_dictionary[name] = 1\n",
    "    return titles_dictionary\n",
    "    \n",
    "def get_person_names(list_of_tweets):\n",
    "    '''\n",
    "    Input: a list of strings\n",
    "    Returns: a dictionary where keys = actor/actress names, values = number of times the key is references in the list of tweets\n",
    "    '''\n",
    "    nlp = spacy.load('en_core_web_sm')\n",
    "    names_dictionary = {}\n",
    "    for tweet in list_of_tweets:\n",
    "        name = extract_full_name(nlp(tweet), nlp)\n",
    "        if name:\n",
    "            name = name.lower()\n",
    "            if name in names_dictionary:\n",
    "                names_dictionary[name] += 1\n",
    "            else:\n",
    "                names_dictionary[name] = 1\n",
    "    return names_dictionary\n",
    "    \n",
    "    \n",
    "def extract_full_name(nlp_doc, nlp):\n",
    "    matcher = Matcher(nlp.vocab)\n",
    "    pattern = [{'POS': 'PROPN'}, {'POS': 'PROPN'}]\n",
    "    matcher.add('FULL_NAME', None, pattern)\n",
    "    matches = matcher(nlp_doc)\n",
    "    for match_id, start, end in matches:\n",
    "        span = nlp_doc[start:end]\n",
    "        return span.text\n",
    "    \n",
    "def remove_names(string):\n",
    "    nlp = spacy.load('en_core_web_sm')\n",
    "    for ent in nlp(string).ents:\n",
    "        string = string.replace(str(ent), '')\n",
    "    return string"
   ]
  },
  {
   "cell_type": "code",
   "execution_count": null,
   "metadata": {},
   "outputs": [],
   "source": [
    "from fuzzywuzzy import fuzz\n",
    "\n",
    "def find_movie_title(string):\n",
    "    imdb_movies = \n",
    "    max_ratio = 0\n",
    "    max_title = ''\n",
    "    for title in imdb_movies:\n",
    "        r = fuzz.token_sort_ratio(string, title)\n",
    "        if r > max_ratio:\n",
    "            max_ratio = r\n",
    "            max_title = title\n",
    "    return max_title\n",
    "\n",
    "Str1 = \"life of pi\"\n",
    "Str2 = \"pi life golden\"\n",
    "Ratio = fuzz.ratio(Str1.lower(),Str2.lower())\n",
    "Partial_Ratio = fuzz.partial_ratio(Str1.lower(),Str2.lower())\n",
    "Token_Sort_Ratio = fuzz.token_sort_ratio(Str1,Str2)\n",
    "print(Ratio)\n",
    "print(Partial_Ratio)\n",
    "print(Token_Sort_Ratio)\n"
   ]
  },
  {
   "cell_type": "code",
   "execution_count": null,
   "metadata": {},
   "outputs": [],
   "source": []
  },
  {
   "cell_type": "code",
   "execution_count": null,
   "metadata": {},
   "outputs": [],
   "source": []
  },
  {
   "cell_type": "code",
   "execution_count": null,
   "metadata": {},
   "outputs": [],
   "source": []
  },
  {
   "cell_type": "code",
   "execution_count": null,
   "metadata": {},
   "outputs": [],
   "source": []
  },
  {
   "cell_type": "code",
   "execution_count": null,
   "metadata": {},
   "outputs": [],
   "source": []
  },
  {
   "cell_type": "code",
   "execution_count": null,
   "metadata": {},
   "outputs": [],
   "source": []
  },
  {
   "cell_type": "code",
   "execution_count": null,
   "metadata": {},
   "outputs": [],
   "source": []
  },
  {
   "cell_type": "code",
   "execution_count": null,
   "metadata": {},
   "outputs": [],
   "source": []
  },
  {
   "cell_type": "code",
   "execution_count": null,
   "metadata": {},
   "outputs": [],
   "source": []
  },
  {
   "cell_type": "code",
   "execution_count": null,
   "metadata": {},
   "outputs": [],
   "source": []
  },
  {
   "cell_type": "code",
   "execution_count": null,
   "metadata": {},
   "outputs": [],
   "source": [
    "from imdb import IMDb\n",
    "\n",
    "# create an instance of the IMDb class\n",
    "ia = IMDb()\n",
    "\n",
    "# get a movie\n",
    "movie = ia.get_movie('0133093')\n",
    "\n",
    "# print the names of the directors of the movie\n",
    "print('Directors:')\n",
    "for director in movie['directors']:\n",
    "    print(director['name'])\n",
    "\n",
    "# print the genres of the movie\n",
    "print('Genres:')\n",
    "for genre in movie['genres']:\n",
    "    print(genre)\n",
    "\n",
    "# search for a person name\n",
    "people = ia.search_person('Mel Gibson')\n",
    "for person in people:\n",
    "   print(person.personID, person['name'])"
   ]
  },
  {
   "cell_type": "code",
   "execution_count": null,
   "metadata": {},
   "outputs": [],
   "source": [
    "m1 = 'skyfall adele'\n",
    "m2 = 'quentin tarantino django'\n",
    "\n",
    "# movies = ia.search_movie('django ed')\n",
    "print(ia.search_movie(m2))\n",
    "print(ia.search_keyword(m2))"
   ]
  },
  {
   "cell_type": "code",
   "execution_count": null,
   "metadata": {},
   "outputs": [],
   "source": [
    "movies = ia.search_movie(m2)\n",
    "for i in range(len(movies)):\n",
    "    print(movies[i]['year'])"
   ]
  },
  {
   "cell_type": "code",
   "execution_count": null,
   "metadata": {},
   "outputs": [],
   "source": [
    "print(ia.search_movie('django '))\n",
    "print(ia.search_movie('django unchained')[0]['title'])\n"
   ]
  },
  {
   "cell_type": "code",
   "execution_count": null,
   "metadata": {},
   "outputs": [],
   "source": [
    "m2 = 'quentin tarantino django'\n",
    "tokens = nltk.word_tokenize(m2)\n",
    "tags = nltk.pos_tag(tokens)\n",
    "\n",
    "print(tags)"
   ]
  },
  {
   "cell_type": "code",
   "execution_count": null,
   "metadata": {},
   "outputs": [],
   "source": [
    "m2 = 'quentin tarantino django the bot test me David'\n",
    "remove_names(m2)\n"
   ]
  },
  {
   "cell_type": "code",
   "execution_count": null,
   "metadata": {},
   "outputs": [],
   "source": []
  },
  {
   "cell_type": "code",
   "execution_count": null,
   "metadata": {},
   "outputs": [],
   "source": []
  }
 ],
 "metadata": {
  "kernelspec": {
   "display_name": "Python 3",
   "language": "python",
   "name": "python3"
  },
  "language_info": {
   "codemirror_mode": {
    "name": "ipython",
    "version": 3
   },
   "file_extension": ".py",
   "mimetype": "text/x-python",
   "name": "python",
   "nbconvert_exporter": "python",
   "pygments_lexer": "ipython3",
   "version": "3.7.4"
  }
 },
 "nbformat": 4,
 "nbformat_minor": 2
}
