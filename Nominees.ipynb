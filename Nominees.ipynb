{
 "cells": [
  {
   "cell_type": "code",
   "execution_count": 1,
   "metadata": {},
   "outputs": [],
   "source": [
    "import json\n",
    "import re\n",
    "import string\n",
    "\n",
    "import nltk\n",
    "from nltk.tokenize import word_tokenize\n",
    "from nltk.tag import pos_tag\n",
    "# Run the 1st time\n",
    "# nltk.download('punkt')\n",
    "# nltk.download('averaged_perceptron_tagger')"
   ]
  },
  {
   "cell_type": "code",
   "execution_count": 117,
   "metadata": {},
   "outputs": [
    {
     "name": "stdout",
     "output_type": "stream",
     "text": [
      "cecil b. demille award\n",
      "best motion picture - drama\n",
      "best performance by an actress in a motion picture - drama\n",
      "best performance by an actor in a motion picture - drama\n",
      "best motion picture - comedy or musical\n",
      "best performance by an actress in a motion picture - comedy or musical\n",
      "best performance by an actor in a motion picture - comedy or musical\n",
      "EMPTY DICTIONARY !!!!\n",
      "best animated feature film\n",
      "best foreign language film\n",
      "best performance by an actress in a supporting role in a motion picture\n",
      "best performance by an actor in a supporting role in a motion picture\n",
      "best director - motion picture\n",
      "best screenplay - motion picture\n",
      "best original score - motion picture\n",
      "best original song - motion picture\n",
      "best television series - drama\n",
      "best performance by an actress in a television series - drama\n",
      "best performance by an actor in a television series - drama\n",
      "best television series - comedy or musical\n",
      "best performance by an actress in a television series - comedy or musical\n",
      "EMPTY DICTIONARY !!!!\n",
      "best performance by an actor in a television series - comedy or musical\n",
      "EMPTY DICTIONARY !!!!\n",
      "best mini-series or motion picture made for television\n",
      "best performance by an actress in a mini-series or motion picture made for television\n",
      "EMPTY DICTIONARY !!!!\n",
      "best performance by an actor in a mini-series or motion picture made for television\n",
      "EMPTY DICTIONARY !!!!\n",
      "best performance by an actress in a supporting role in a series, mini-series or motion picture made for television\n",
      "best performance by an actor in a supporting role in a series, mini-series or motion picture made for television\n",
      "EMPTY DICTIONARY !!!!\n",
      "\n",
      "\n",
      "{'cecil b. demille award': 'jodie foster', 'best motion picture - drama': 'argo', 'best performance by an actress in a motion picture - drama': 'jessica chastain', 'best performance by an actor in a motion picture - drama': 'daniel day-lewis', 'best motion picture - comedy or musical': 'les miserables', 'best performance by an actress in a motion picture - comedy or musical': 'lawrence silver linings playbook', 'best performance by an actor in a motion picture - comedy or musical': '', 'best animated feature film': 'brave', 'best foreign language film': '', 'best performance by an actress in a supporting role in a motion picture': 'anne hathaway', 'best performance by an actor in a supporting role in a motion picture': '', 'best director - motion picture': '', 'best screenplay - motion picture': 'quentin tarantino django', 'best original score - motion picture': 'danna life pi mychael', 'best original song - motion picture': 'skyfall', 'best television series - drama': 'homeland @ sho_homeland', 'best performance by an actress in a television series - drama': 'claire danes', 'best performance by an actor in a television series - drama': 'lewis', 'best television series - comedy or musical': 'girls @ girlshbo', 'best performance by an actress in a television series - comedy or musical': '', 'best performance by an actor in a television series - comedy or musical': '', 'best mini-series or motion picture made for television': 'change', 'best performance by an actress in a mini-series or motion picture made for television': '', 'best performance by an actor in a mini-series or motion picture made for television': '', 'best performance by an actress in a supporting role in a series, mini-series or motion picture made for television': 'maggie smith', 'best performance by an actor in a supporting role in a series, mini-series or motion picture made for television': ''}\n"
     ]
    }
   ],
   "source": [
    "year = 2013\n",
    "nominees = run_nominees(year)\n",
    "print('\\n')\n",
    "print(nominees)"
   ]
  },
  {
   "cell_type": "code",
   "execution_count": null,
   "metadata": {},
   "outputs": [],
   "source": []
  },
  {
   "cell_type": "code",
   "execution_count": 93,
   "metadata": {},
   "outputs": [],
   "source": [
    "category = 'best performance by an actor in a motion picture - comedy or musical'\n",
    "tweets = get_tweet_data(year)"
   ]
  },
  {
   "cell_type": "code",
   "execution_count": 94,
   "metadata": {},
   "outputs": [
    {
     "ename": "ValueError",
     "evalue": "max() arg is an empty sequence",
     "output_type": "error",
     "traceback": [
      "\u001b[0;31m---------------------------------------------------------------------------\u001b[0m",
      "\u001b[0;31mValueError\u001b[0m                                Traceback (most recent call last)",
      "\u001b[0;32m<ipython-input-94-50d6d8153f46>\u001b[0m in \u001b[0;36m<module>\u001b[0;34m\u001b[0m\n\u001b[1;32m      6\u001b[0m \u001b[0;34m\u001b[0m\u001b[0m\n\u001b[1;32m      7\u001b[0m \u001b[0;31m# get pronouns with >some_percentile frequency\u001b[0m\u001b[0;34m\u001b[0m\u001b[0;34m\u001b[0m\u001b[0;34m\u001b[0m\u001b[0m\n\u001b[0;32m----> 8\u001b[0;31m \u001b[0mfrequent_pronouns\u001b[0m \u001b[0;34m=\u001b[0m \u001b[0mget_top_percent\u001b[0m\u001b[0;34m(\u001b[0m\u001b[0mpronouns_dictionary\u001b[0m\u001b[0;34m,\u001b[0m \u001b[0mpercentile\u001b[0m\u001b[0;34m=\u001b[0m\u001b[0;36m0.8\u001b[0m\u001b[0;34m)\u001b[0m\u001b[0;34m\u001b[0m\u001b[0;34m\u001b[0m\u001b[0m\n\u001b[0m\u001b[1;32m      9\u001b[0m \u001b[0;34m\u001b[0m\u001b[0m\n\u001b[1;32m     10\u001b[0m \u001b[0;31m# remove tokens contained in the category name\u001b[0m\u001b[0;34m\u001b[0m\u001b[0;34m\u001b[0m\u001b[0;34m\u001b[0m\u001b[0m\n",
      "\u001b[0;32m<ipython-input-85-3ed2465024fd>\u001b[0m in \u001b[0;36mget_top_percent\u001b[0;34m(dictionary, percentile)\u001b[0m\n\u001b[1;32m     29\u001b[0m \u001b[0;34m\u001b[0m\u001b[0m\n\u001b[1;32m     30\u001b[0m \u001b[0;32mdef\u001b[0m \u001b[0mget_top_percent\u001b[0m\u001b[0;34m(\u001b[0m\u001b[0mdictionary\u001b[0m\u001b[0;34m,\u001b[0m \u001b[0mpercentile\u001b[0m\u001b[0;34m=\u001b[0m\u001b[0;36m0.75\u001b[0m\u001b[0;34m)\u001b[0m\u001b[0;34m:\u001b[0m\u001b[0;34m\u001b[0m\u001b[0;34m\u001b[0m\u001b[0m\n\u001b[0;32m---> 31\u001b[0;31m     \u001b[0mmax_val\u001b[0m \u001b[0;34m=\u001b[0m \u001b[0mmax\u001b[0m\u001b[0;34m(\u001b[0m\u001b[0mdictionary\u001b[0m\u001b[0;34m.\u001b[0m\u001b[0mvalues\u001b[0m\u001b[0;34m(\u001b[0m\u001b[0;34m)\u001b[0m\u001b[0;34m)\u001b[0m\u001b[0;34m\u001b[0m\u001b[0;34m\u001b[0m\u001b[0m\n\u001b[0m\u001b[1;32m     32\u001b[0m     \u001b[0mthreshold\u001b[0m \u001b[0;34m=\u001b[0m \u001b[0mmax_val\u001b[0m \u001b[0;34m*\u001b[0m \u001b[0mpercentile\u001b[0m\u001b[0;34m\u001b[0m\u001b[0;34m\u001b[0m\u001b[0m\n\u001b[1;32m     33\u001b[0m     \u001b[0mresult\u001b[0m \u001b[0;34m=\u001b[0m \u001b[0;34m[\u001b[0m\u001b[0;34m]\u001b[0m\u001b[0;34m\u001b[0m\u001b[0;34m\u001b[0m\u001b[0m\n",
      "\u001b[0;31mValueError\u001b[0m: max() arg is an empty sequence"
     ]
    }
   ],
   "source": [
    "# filter for tweets which contain the category name regex\n",
    "category_tweets = tweets_contain(category, tweets)\n",
    "\n",
    "# create a dictionary of pronoun tokens\n",
    "pronouns_dictionary = get_NNP(category_tweets)\n",
    "\n",
    "# get pronouns with >some_percentile frequency \n",
    "frequent_pronouns = get_top_percent(pronouns_dictionary, percentile=0.8)\n",
    "\n",
    "# remove tokens contained in the category name\n",
    "category_nominees = remove_category_tokens(category, frequent_pronouns)"
   ]
  },
  {
   "cell_type": "code",
   "execution_count": null,
   "metadata": {},
   "outputs": [],
   "source": []
  },
  {
   "cell_type": "code",
   "execution_count": null,
   "metadata": {},
   "outputs": [],
   "source": []
  },
  {
   "cell_type": "code",
   "execution_count": 110,
   "metadata": {},
   "outputs": [
    {
     "name": "stdout",
     "output_type": "stream",
     "text": [
      "0\n"
     ]
    }
   ],
   "source": [
    "count = 0\n",
    "for t in tweets:\n",
    "    if 'best performance by an actor in a motion picture - comedy or musical' in t:\n",
    "        count += 1\n",
    "print(count)"
   ]
  },
  {
   "cell_type": "code",
   "execution_count": null,
   "metadata": {},
   "outputs": [],
   "source": []
  },
  {
   "cell_type": "code",
   "execution_count": 112,
   "metadata": {},
   "outputs": [],
   "source": []
  },
  {
   "cell_type": "code",
   "execution_count": 119,
   "metadata": {},
   "outputs": [],
   "source": [
    "def get_tweet_data(year):\n",
    "    # load tweet data\n",
    "    file_string = 'gg' + str(year) + '.json'\n",
    "    tweets = {}\n",
    "    with open(file_string, 'r') as f:\n",
    "        tweets = json.load(f)\n",
    "    \n",
    "    # extract 'text' field from tweets\n",
    "    tweets = [tweet['text'] for tweet in tweets]\n",
    "    \n",
    "    # remove @... tokens\n",
    "    tweets = [remove_symbols(tweet) for tweet in tweets]\n",
    "    \n",
    "    return tweets\n",
    "\n",
    "def get_category_nominees(category, tweets):\n",
    "    \n",
    "    # filter for tweets which contain the category name regex\n",
    "    category_tweets = tweets_contain(category, tweets)\n",
    "\n",
    "    # create a dictionary of pronoun tokens\n",
    "    pronouns_dictionary = get_NNP(category_tweets)\n",
    "\n",
    "    # get pronouns with >some_percentile frequency \n",
    "    frequent_pronouns = get_top_percent(pronouns_dictionary, percentile=0.8)\n",
    "\n",
    "    # remove tokens contained in the category name\n",
    "    category_nominees = remove_category_tokens(category, frequent_pronouns)\n",
    "    \n",
    "    return category_nominees\n",
    "\n",
    "def run_nominees(year):\n",
    "    tweets = get_tweet_data(year)\n",
    "    \n",
    "    seperator = ' '\n",
    "    nominees = {}\n",
    "    OFFICIAL_AWARDS_1315 = ['cecil b. demille award', 'best motion picture - drama', 'best performance by an actress in a motion picture - drama', 'best performance by an actor in a motion picture - drama', 'best motion picture - comedy or musical', 'best performance by an actress in a motion picture - comedy or musical', 'best performance by an actor in a motion picture - comedy or musical', 'best animated feature film', 'best foreign language film', 'best performance by an actress in a supporting role in a motion picture', 'best performance by an actor in a supporting role in a motion picture', 'best director - motion picture', 'best screenplay - motion picture', 'best original score - motion picture', 'best original song - motion picture', 'best television series - drama', 'best performance by an actress in a television series - drama', 'best performance by an actor in a television series - drama', 'best television series - comedy or musical', 'best performance by an actress in a television series - comedy or musical', 'best performance by an actor in a television series - comedy or musical', 'best mini-series or motion picture made for television', 'best performance by an actress in a mini-series or motion picture made for television', 'best performance by an actor in a mini-series or motion picture made for television', 'best performance by an actress in a supporting role in a series, mini-series or motion picture made for television', 'best performance by an actor in a supporting role in a series, mini-series or motion picture made for television']\n",
    "    for category_name in OFFICIAL_AWARDS_1315:\n",
    "        print(category_name)\n",
    "        category_nominees_list = get_category_nominees(category_name, tweets)\n",
    "        category_nominees_string = seperator.join(category_nominees_list)\n",
    "        nominees[category_name] = category_nominees_string\n",
    "    return nominees"
   ]
  },
  {
   "cell_type": "code",
   "execution_count": 120,
   "metadata": {},
   "outputs": [],
   "source": [
    "def remove_symbols(a_tweet):\n",
    "    entity_prefixes = ['@','#']\n",
    "    words = []\n",
    "    for word in a_tweet.split():\n",
    "        word = word.strip()\n",
    "        if word:\n",
    "            if word[0].lower() not in entity_prefixes:\n",
    "                words.append(word)\n",
    "    return ' '.join(words)\n",
    "\n",
    "def tweets_contain(string, tweets):\n",
    "    r = re.compile(string, re.IGNORECASE)\n",
    "    filtered_list = list(filter(r.search, tweets))\n",
    "    return filtered_list\n",
    "\n",
    "def get_NNP(tweets_list):\n",
    "    NNP_dict = {}\n",
    "    for tweet in tweets_list:\n",
    "        tokens = nltk.word_tokenize(tweet)\n",
    "        tags = nltk.pos_tag(tokens)\n",
    "        for word in tags:\n",
    "            if word[1] in ['NNP']:\n",
    "                name = word[0].lower()\n",
    "                if name in NNP_dict:\n",
    "                    NNP_dict[name] += 1\n",
    "                else:\n",
    "                    NNP_dict[name] = 1\n",
    "    return NNP_dict\n",
    "\n",
    "def get_top_percent(dictionary, percentile=0.75):\n",
    "    if dictionary == {}:\n",
    "        print('EMPTY DICTIONARY !!!!')\n",
    "        return []\n",
    "    max_val = max(dictionary.values())\n",
    "    threshold = max_val * percentile\n",
    "    result = []\n",
    "    for key in dictionary:\n",
    "        if dictionary[key] > threshold:\n",
    "            result.append(key)\n",
    "    return result\n",
    "\n",
    "def remove_category_tokens(category, lst):\n",
    "    tokens = nltk.word_tokenize(category) + ['rt']\n",
    "    for token in tokens:\n",
    "        if token in lst:\n",
    "            lst.remove(token)\n",
    "    return lst"
   ]
  },
  {
   "cell_type": "code",
   "execution_count": null,
   "metadata": {},
   "outputs": [],
   "source": []
  },
  {
   "cell_type": "code",
   "execution_count": null,
   "metadata": {},
   "outputs": [],
   "source": []
  },
  {
   "cell_type": "code",
   "execution_count": null,
   "metadata": {},
   "outputs": [],
   "source": []
  },
  {
   "cell_type": "code",
   "execution_count": null,
   "metadata": {},
   "outputs": [],
   "source": []
  }
 ],
 "metadata": {
  "kernelspec": {
   "display_name": "Python 3",
   "language": "python",
   "name": "python3"
  },
  "language_info": {
   "codemirror_mode": {
    "name": "ipython",
    "version": 3
   },
   "file_extension": ".py",
   "mimetype": "text/x-python",
   "name": "python",
   "nbconvert_exporter": "python",
   "pygments_lexer": "ipython3",
   "version": "3.7.4"
  }
 },
 "nbformat": 4,
 "nbformat_minor": 2
}
